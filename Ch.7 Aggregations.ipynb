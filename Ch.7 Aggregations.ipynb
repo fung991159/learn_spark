{
 "cells": [
  {
   "cell_type": "code",
   "execution_count": 1,
   "metadata": {},
   "outputs": [],
   "source": [
    "from pyspark.sql import SparkSession\n",
    "spark = SparkSession.builder.getOrCreate()"
   ]
  },
  {
   "cell_type": "code",
   "execution_count": 2,
   "metadata": {},
   "outputs": [],
   "source": [
    "df = spark.read.format(\"csv\")\\\n",
    "  .option(\"header\", \"true\")\\\n",
    "  .option(\"inferSchema\", \"true\")\\\n",
    "  .load(\"/home/fung/dev/project/spark/raw_data/data/retail-data/all/*.csv\")\\\n",
    "  .coalesce(5)\n",
    "df.cache()\n",
    "df.createOrReplaceTempView(\"dfTable\")"
   ]
  },
  {
   "cell_type": "code",
   "execution_count": 3,
   "metadata": {},
   "outputs": [
    {
     "name": "stdout",
     "output_type": "stream",
     "text": [
      "+----------------+\n",
      "|count(StockCode)|\n",
      "+----------------+\n",
      "|          541909|\n",
      "+----------------+\n",
      "\n"
     ]
    }
   ],
   "source": [
    "from pyspark.sql.functions import count\n",
    "df.select(count(\"StockCode\")).show() # 541909\n"
   ]
  },
  {
   "cell_type": "code",
   "execution_count": 4,
   "metadata": {},
   "outputs": [
    {
     "name": "stdout",
     "output_type": "stream",
     "text": [
      "+-------------------------+\n",
      "|count(DISTINCT StockCode)|\n",
      "+-------------------------+\n",
      "|                     4070|\n",
      "+-------------------------+\n",
      "\n"
     ]
    }
   ],
   "source": [
    "from pyspark.sql.functions import countDistinct\n",
    "df.select(countDistinct(\"StockCode\")).show() # 4070\n"
   ]
  },
  {
   "cell_type": "code",
   "execution_count": 5,
   "metadata": {},
   "outputs": [
    {
     "name": "stdout",
     "output_type": "stream",
     "text": [
      "+--------------------------------+\n",
      "|approx_count_distinct(StockCode)|\n",
      "+--------------------------------+\n",
      "|                            3364|\n",
      "+--------------------------------+\n",
      "\n"
     ]
    }
   ],
   "source": [
    "from pyspark.sql.functions import approx_count_distinct\n",
    "df.select(approx_count_distinct(\"StockCode\", 0.1)).show() # 3364\n"
   ]
  },
  {
   "cell_type": "code",
   "execution_count": 6,
   "metadata": {},
   "outputs": [
    {
     "name": "stdout",
     "output_type": "stream",
     "text": [
      "+-----------------------+----------------------+\n",
      "|first(StockCode, false)|last(StockCode, false)|\n",
      "+-----------------------+----------------------+\n",
      "|                 85123A|                 22138|\n",
      "+-----------------------+----------------------+\n",
      "\n"
     ]
    }
   ],
   "source": [
    "from pyspark.sql.functions import first, last\n",
    "df.select(first(\"StockCode\"), last(\"StockCode\")).show()\n"
   ]
  },
  {
   "cell_type": "code",
   "execution_count": 7,
   "metadata": {},
   "outputs": [
    {
     "name": "stdout",
     "output_type": "stream",
     "text": [
      "+-------------+-------------+\n",
      "|min(Quantity)|max(Quantity)|\n",
      "+-------------+-------------+\n",
      "|       -80995|        80995|\n",
      "+-------------+-------------+\n",
      "\n"
     ]
    }
   ],
   "source": [
    "\n",
    "from pyspark.sql.functions import min, max\n",
    "df.select(min(\"Quantity\"), max(\"Quantity\")).show()\n"
   ]
  },
  {
   "cell_type": "code",
   "execution_count": 8,
   "metadata": {},
   "outputs": [
    {
     "name": "stdout",
     "output_type": "stream",
     "text": [
      "+-------------+\n",
      "|sum(Quantity)|\n",
      "+-------------+\n",
      "|      5176450|\n",
      "+-------------+\n",
      "\n"
     ]
    }
   ],
   "source": [
    "from pyspark.sql.functions import sum\n",
    "df.select(sum(\"Quantity\")).show() # 5176450"
   ]
  },
  {
   "cell_type": "code",
   "execution_count": 9,
   "metadata": {},
   "outputs": [
    {
     "name": "stdout",
     "output_type": "stream",
     "text": [
      "+----------------------+\n",
      "|sum(DISTINCT Quantity)|\n",
      "+----------------------+\n",
      "|                 29310|\n",
      "+----------------------+\n",
      "\n"
     ]
    }
   ],
   "source": [
    "from pyspark.sql.functions import sumDistinct\n",
    "df.select(sumDistinct(\"Quantity\")).show() # 29310\n",
    "\n"
   ]
  },
  {
   "cell_type": "code",
   "execution_count": 10,
   "metadata": {},
   "outputs": [
    {
     "name": "stdout",
     "output_type": "stream",
     "text": [
      "+--------------------------------------+----------------+----------------+\n",
      "|(total_purchases / total_transactions)|   avg_purchases|  mean_purchases|\n",
      "+--------------------------------------+----------------+----------------+\n",
      "|                      9.55224954743324|9.55224954743324|9.55224954743324|\n",
      "+--------------------------------------+----------------+----------------+\n",
      "\n"
     ]
    }
   ],
   "source": [
    "from pyspark.sql.functions import sum, count, avg, expr\n",
    "\n",
    "df.select(\n",
    "    count(\"Quantity\").alias(\"total_transactions\"),\n",
    "    sum(\"Quantity\").alias(\"total_purchases\"),\n",
    "    avg(\"Quantity\").alias(\"avg_purchases\"),\n",
    "    expr(\"mean(Quantity)\").alias(\"mean_purchases\"))\\\n",
    "  .selectExpr(\n",
    "    \"total_purchases/total_transactions\",\n",
    "    \"avg_purchases\",\n",
    "    \"mean_purchases\").show()\n"
   ]
  },
  {
   "cell_type": "code",
   "execution_count": 11,
   "metadata": {},
   "outputs": [
    {
     "name": "stdout",
     "output_type": "stream",
     "text": [
      "+-----------------+------------------+--------------------+---------------------+\n",
      "|var_pop(Quantity)|var_samp(Quantity)|stddev_pop(Quantity)|stddev_samp(Quantity)|\n",
      "+-----------------+------------------+--------------------+---------------------+\n",
      "| 47559.3036466091|  47559.3914092988|  218.08095663447807|   218.08115785023426|\n",
      "+-----------------+------------------+--------------------+---------------------+\n",
      "\n"
     ]
    }
   ],
   "source": [
    "from pyspark.sql.functions import var_pop, stddev_pop\n",
    "from pyspark.sql.functions import var_samp, stddev_samp\n",
    "df.select(var_pop(\"Quantity\"), var_samp(\"Quantity\"),\n",
    "  stddev_pop(\"Quantity\"), stddev_samp(\"Quantity\")).show()\n"
   ]
  },
  {
   "cell_type": "code",
   "execution_count": 12,
   "metadata": {},
   "outputs": [
    {
     "name": "stdout",
     "output_type": "stream",
     "text": [
      "+--------------------+------------------+\n",
      "|  skewness(Quantity)|kurtosis(Quantity)|\n",
      "+--------------------+------------------+\n",
      "|-0.26407557610529564|119768.05495534712|\n",
      "+--------------------+------------------+\n",
      "\n"
     ]
    }
   ],
   "source": [
    "from pyspark.sql.functions import skewness, kurtosis\n",
    "df.select(skewness(\"Quantity\"), kurtosis(\"Quantity\")).show()\n"
   ]
  },
  {
   "cell_type": "code",
   "execution_count": 13,
   "metadata": {},
   "outputs": [
    {
     "name": "stdout",
     "output_type": "stream",
     "text": [
      "+-------------------------+-------------------------------+------------------------------+\n",
      "|corr(InvoiceNo, Quantity)|covar_samp(InvoiceNo, Quantity)|covar_pop(InvoiceNo, Quantity)|\n",
      "+-------------------------+-------------------------------+------------------------------+\n",
      "|     4.912186085642775E-4|             1052.7280543915654|            1052.7260778754612|\n",
      "+-------------------------+-------------------------------+------------------------------+\n",
      "\n"
     ]
    }
   ],
   "source": [
    "from pyspark.sql.functions import corr, covar_pop, covar_samp\n",
    "df.select(corr(\"InvoiceNo\", \"Quantity\"), covar_samp(\"InvoiceNo\", \"Quantity\"),\n",
    "    covar_pop(\"InvoiceNo\", \"Quantity\")).show()"
   ]
  },
  {
   "cell_type": "code",
   "execution_count": 14,
   "metadata": {},
   "outputs": [
    {
     "name": "stdout",
     "output_type": "stream",
     "text": [
      "+--------------------+---------------------+\n",
      "|collect_set(Country)|collect_list(Country)|\n",
      "+--------------------+---------------------+\n",
      "|[Portugal, Italy,...| [United Kingdom, ...|\n",
      "+--------------------+---------------------+\n",
      "\n"
     ]
    }
   ],
   "source": [
    "from pyspark.sql.functions import collect_set, collect_list\n",
    "df.agg(collect_set(\"Country\"), collect_list(\"Country\")).show()"
   ]
  },
  {
   "cell_type": "code",
   "execution_count": 15,
   "metadata": {},
   "outputs": [
    {
     "name": "stdout",
     "output_type": "stream",
     "text": [
      "+---------+----+---------------+\n",
      "|InvoiceNo|quan|count(Quantity)|\n",
      "+---------+----+---------------+\n",
      "|   536596|   6|              6|\n",
      "|   536938|  14|             14|\n",
      "|   537252|   1|              1|\n",
      "|   537691|  20|             20|\n",
      "|   538041|   1|              1|\n",
      "|   538184|  26|             26|\n",
      "|   538517|  53|             53|\n",
      "|   538879|  19|             19|\n",
      "|   539275|   6|              6|\n",
      "|   539630|  12|             12|\n",
      "|   540499|  24|             24|\n",
      "|   540540|  22|             22|\n",
      "|  C540850|   1|              1|\n",
      "|   540976|  48|             48|\n",
      "|   541432|   4|              4|\n",
      "|   541518| 101|            101|\n",
      "|   541783|  35|             35|\n",
      "|   542026|   9|              9|\n",
      "|   542375|   6|              6|\n",
      "|  C542604|   8|              8|\n",
      "+---------+----+---------------+\n",
      "only showing top 20 rows\n",
      "\n"
     ]
    }
   ],
   "source": [
    "from pyspark.sql.functions import count\n",
    "\n",
    "df.groupBy(\"InvoiceNo\").agg(\n",
    "    count(\"Quantity\").alias(\"quan\"),\n",
    "    expr(\"count(Quantity)\")).show()\n"
   ]
  },
  {
   "cell_type": "code",
   "execution_count": 16,
   "metadata": {},
   "outputs": [
    {
     "name": "stdout",
     "output_type": "stream",
     "text": [
      "+---------+------------------+--------------------+\n",
      "|InvoiceNo|     avg(Quantity)|stddev_pop(Quantity)|\n",
      "+---------+------------------+--------------------+\n",
      "|   536596|               1.5|  1.1180339887498947|\n",
      "|   536938|33.142857142857146|  20.698023172885524|\n",
      "|   537252|              31.0|                 0.0|\n",
      "|   537691|              8.15|   5.597097462078001|\n",
      "|   538041|              30.0|                 0.0|\n",
      "|   538184|12.076923076923077|   8.142590198943392|\n",
      "|   538517|3.0377358490566038|  2.3946659604837897|\n",
      "|   538879|21.157894736842106|  11.811070444356483|\n",
      "|   539275|              26.0|  12.806248474865697|\n",
      "|   539630|20.333333333333332|  10.225241100118645|\n",
      "|   540499|              3.75|  2.6653642652865788|\n",
      "|   540540|2.1363636363636362|  1.0572457590557278|\n",
      "|  C540850|              -1.0|                 0.0|\n",
      "|   540976|10.520833333333334|   6.496760677872902|\n",
      "|   541432|             12.25|  10.825317547305483|\n",
      "|   541518| 23.10891089108911|  20.550782784878713|\n",
      "|   541783|11.314285714285715|   8.467657556242811|\n",
      "|   542026| 7.666666666666667|   4.853406592853679|\n",
      "|   542375|               8.0|  3.4641016151377544|\n",
      "|  C542604|              -8.0|  15.173990905493518|\n",
      "+---------+------------------+--------------------+\n",
      "only showing top 20 rows\n",
      "\n"
     ]
    }
   ],
   "source": [
    "df.groupBy(\"InvoiceNo\").agg(expr(\"avg(Quantity)\"),expr(\"stddev_pop(Quantity)\"))\\\n",
    "  .show()\n"
   ]
  },
  {
   "cell_type": "code",
   "execution_count": 17,
   "metadata": {},
   "outputs": [],
   "source": [
    "from pyspark.sql.functions import col, to_date\n",
    "dfWithDate = df.withColumn(\"date\", to_date(col(\"InvoiceDate\"), \"MM/d/yyyy H:mm\"))\n",
    "dfWithDate.createOrReplaceTempView(\"dfWithDate\")\n"
   ]
  },
  {
   "cell_type": "code",
   "execution_count": 18,
   "metadata": {},
   "outputs": [],
   "source": [
    "from pyspark.sql.window import Window\n",
    "from pyspark.sql.functions import desc\n",
    "windowSpec = Window\\\n",
    "  .partitionBy(\"CustomerId\", \"date\")\\\n",
    "  .orderBy(desc(\"Quantity\"))\\\n",
    "  .rowsBetween(Window.unboundedPreceding, Window.currentRow)\n"
   ]
  },
  {
   "cell_type": "code",
   "execution_count": 19,
   "metadata": {},
   "outputs": [],
   "source": [
    "from pyspark.sql.functions import max\n",
    "maxPurchaseQuantity = max(col(\"Quantity\")).over(windowSpec)"
   ]
  },
  {
   "cell_type": "code",
   "execution_count": 20,
   "metadata": {},
   "outputs": [
    {
     "name": "stdout",
     "output_type": "stream",
     "text": [
      "+----------+----------+--------+------------+-----------------+-------------------+\n",
      "|CustomerId|      date|Quantity|quantityRank|quantityDenseRank|maxPurchaseQuantity|\n",
      "+----------+----------+--------+------------+-----------------+-------------------+\n",
      "|     12346|2011-01-18|   74215|           1|                1|              74215|\n",
      "|     12346|2011-01-18|  -74215|           2|                2|              74215|\n",
      "|     12347|2010-12-07|      36|           1|                1|                 36|\n",
      "|     12347|2010-12-07|      30|           2|                2|                 36|\n",
      "|     12347|2010-12-07|      24|           3|                3|                 36|\n",
      "|     12347|2010-12-07|      12|           4|                4|                 36|\n",
      "|     12347|2010-12-07|      12|           4|                4|                 36|\n",
      "|     12347|2010-12-07|      12|           4|                4|                 36|\n",
      "|     12347|2010-12-07|      12|           4|                4|                 36|\n",
      "|     12347|2010-12-07|      12|           4|                4|                 36|\n",
      "|     12347|2010-12-07|      12|           4|                4|                 36|\n",
      "|     12347|2010-12-07|      12|           4|                4|                 36|\n",
      "|     12347|2010-12-07|      12|           4|                4|                 36|\n",
      "|     12347|2010-12-07|      12|           4|                4|                 36|\n",
      "|     12347|2010-12-07|      12|           4|                4|                 36|\n",
      "|     12347|2010-12-07|      12|           4|                4|                 36|\n",
      "|     12347|2010-12-07|      12|           4|                4|                 36|\n",
      "|     12347|2010-12-07|      12|           4|                4|                 36|\n",
      "|     12347|2010-12-07|       6|          17|                5|                 36|\n",
      "|     12347|2010-12-07|       6|          17|                5|                 36|\n",
      "+----------+----------+--------+------------+-----------------+-------------------+\n",
      "only showing top 20 rows\n",
      "\n"
     ]
    }
   ],
   "source": [
    "from pyspark.sql.functions import col\n",
    "\n",
    "from pyspark.sql.functions import dense_rank, rank\n",
    "purchaseDenseRank = dense_rank().over(windowSpec)\n",
    "purchaseRank = rank().over(windowSpec)\n",
    "\n",
    "dfWithDate.where(\"CustomerId IS NOT NULL\").orderBy(\"CustomerId\")\\\n",
    "  .select(\n",
    "    col(\"CustomerId\"),\n",
    "    col(\"date\"),\n",
    "    col(\"Quantity\"),\n",
    "    purchaseRank.alias(\"quantityRank\"),\n",
    "    purchaseDenseRank.alias(\"quantityDenseRank\"),\n",
    "    maxPurchaseQuantity.alias(\"maxPurchaseQuantity\")).show()\n"
   ]
  },
  {
   "cell_type": "code",
   "execution_count": 21,
   "metadata": {},
   "outputs": [
    {
     "name": "stdout",
     "output_type": "stream",
     "text": [
      "+----------+----------+--------+------------+-----------------+-------------------+\n",
      "|CustomerId|      date|Quantity|quantityRank|quantityDenseRank|maxPurchaseQuantity|\n",
      "+----------+----------+--------+------------+-----------------+-------------------+\n",
      "|     12346|2011-01-18|   74215|           1|                1|              74215|\n",
      "|     12346|2011-01-18|  -74215|           2|                2|              74215|\n",
      "|     12347|2010-12-07|      36|           1|                1|                 36|\n",
      "|     12347|2010-12-07|      30|           2|                2|                 36|\n",
      "|     12347|2010-12-07|      24|           3|                3|                 36|\n",
      "|     12347|2010-12-07|      12|           4|                4|                 36|\n",
      "|     12347|2010-12-07|      12|           4|                4|                 36|\n",
      "|     12347|2010-12-07|      12|           4|                4|                 36|\n",
      "|     12347|2010-12-07|      12|           4|                4|                 36|\n",
      "|     12347|2010-12-07|      12|           4|                4|                 36|\n",
      "|     12347|2010-12-07|      12|           4|                4|                 36|\n",
      "|     12347|2010-12-07|      12|           4|                4|                 36|\n",
      "|     12347|2010-12-07|      12|           4|                4|                 36|\n",
      "|     12347|2010-12-07|      12|           4|                4|                 36|\n",
      "|     12347|2010-12-07|      12|           4|                4|                 36|\n",
      "|     12347|2010-12-07|      12|           4|                4|                 36|\n",
      "|     12347|2010-12-07|      12|           4|                4|                 36|\n",
      "|     12347|2010-12-07|      12|           4|                4|                 36|\n",
      "|     12347|2010-12-07|       6|          17|                5|                 36|\n",
      "|     12347|2010-12-07|       6|          17|                5|                 36|\n",
      "+----------+----------+--------+------------+-----------------+-------------------+\n",
      "only showing top 20 rows\n",
      "\n"
     ]
    }
   ],
   "source": [
    "from pyspark.sql.functions import col\n",
    "\n",
    "dfWithDate.where(\"CustomerId IS NOT NULL\").orderBy(\"CustomerId\")\\\n",
    "  .select(\n",
    "    col(\"CustomerId\"),\n",
    "    col(\"date\"),\n",
    "    col(\"Quantity\"),\n",
    "    purchaseRank.alias(\"quantityRank\"),\n",
    "    purchaseDenseRank.alias(\"quantityDenseRank\"),\n",
    "    maxPurchaseQuantity.alias(\"maxPurchaseQuantity\")).show()\n"
   ]
  },
  {
   "cell_type": "code",
   "execution_count": 22,
   "metadata": {},
   "outputs": [],
   "source": [
    "dfNoNull = dfWithDate.drop()\n",
    "dfNoNull.createOrReplaceTempView(\"dfNoNull\")\n"
   ]
  },
  {
   "cell_type": "code",
   "execution_count": 25,
   "metadata": {},
   "outputs": [
    {
     "name": "stdout",
     "output_type": "stream",
     "text": [
      "+----------+--------------+--------------+\n",
      "|      Date|       Country|total_quantity|\n",
      "+----------+--------------+--------------+\n",
      "|      null|          null|       5176450|\n",
      "|2010-12-01|   Netherlands|            97|\n",
      "|2010-12-01|          EIRE|           243|\n",
      "|2010-12-01|     Australia|           107|\n",
      "|2010-12-01|        Norway|          1852|\n",
      "|2010-12-01|United Kingdom|         23949|\n",
      "|2010-12-01|        France|           449|\n",
      "|2010-12-01|          null|         26814|\n",
      "|2010-12-01|       Germany|           117|\n",
      "|2010-12-02|          EIRE|             4|\n",
      "|2010-12-02|       Germany|           146|\n",
      "|2010-12-02|          null|         21023|\n",
      "|2010-12-02|United Kingdom|         20873|\n",
      "|2010-12-03|         Spain|           400|\n",
      "|2010-12-03|         Italy|           164|\n",
      "|2010-12-03|       Belgium|           528|\n",
      "|2010-12-03|          null|         14830|\n",
      "|2010-12-03|   Switzerland|           110|\n",
      "|2010-12-03|        France|           239|\n",
      "|2010-12-03|      Portugal|            65|\n",
      "+----------+--------------+--------------+\n",
      "only showing top 20 rows\n",
      "\n"
     ]
    }
   ],
   "source": [
    "rolledUpDF = dfNoNull.rollup(\"Date\", \"Country\").agg(sum(\"Quantity\"))\\\n",
    "  .selectExpr(\"Date\", \"Country\", \"`sum(Quantity)` as total_quantity\")\\\n",
    "  .orderBy(\"Date\")\n",
    "rolledUpDF.show()"
   ]
  },
  {
   "cell_type": "code",
   "execution_count": 28,
   "metadata": {},
   "outputs": [],
   "source": [
    "pivoted = dfWithDate.groupBy(\"date\").pivot(\"Country\").sum()"
   ]
  },
  {
   "cell_type": "code",
   "execution_count": 32,
   "metadata": {},
   "outputs": [
    {
     "ename": "AnalysisException",
     "evalue": "\"cannot resolve '`USA_sum(Qunatity)`' given input columns: [Hong Kong_sum(CAST(Quantity AS BIGINT)), United Arab Emirates_sum(UnitPrice), Canada_sum(CAST(CustomerID AS BIGINT)), Iceland_sum(CAST(CustomerID AS BIGINT)), Hong Kong_sum(UnitPrice), RSA_sum(CAST(CustomerID AS BIGINT)), Portugal_sum(CAST(Quantity AS BIGINT)), Channel Islands_sum(CAST(Quantity AS BIGINT)), Singapore_sum(CAST(CustomerID AS BIGINT)), Israel_sum(CAST(Quantity AS BIGINT)), United Arab Emirates_sum(CAST(Quantity AS BIGINT)), Switzerland_sum(CAST(CustomerID AS BIGINT)), Italy_sum(CAST(Quantity AS BIGINT)), Switzerland_sum(CAST(Quantity AS BIGINT)), Cyprus_sum(CAST(Quantity AS BIGINT)), Lebanon_sum(UnitPrice), Finland_sum(UnitPrice), Cyprus_sum(CAST(CustomerID AS BIGINT)), USA_sum(CAST(CustomerID AS BIGINT)), Italy_sum(UnitPrice), Germany_sum(UnitPrice), Austria_sum(CAST(Quantity AS BIGINT)), Brazil_sum(CAST(CustomerID AS BIGINT)), Unspecified_sum(UnitPrice), Norway_sum(UnitPrice), Saudi Arabia_sum(CAST(Quantity AS BIGINT)), Israel_sum(CAST(CustomerID AS BIGINT)), Czech Republic_sum(UnitPrice), USA_sum(CAST(Quantity AS BIGINT)), USA_sum(UnitPrice), Saudi Arabia_sum(CAST(CustomerID AS BIGINT)), RSA_sum(CAST(Quantity AS BIGINT)), Italy_sum(CAST(CustomerID AS BIGINT)), Finland_sum(CAST(Quantity AS BIGINT)), Iceland_sum(UnitPrice), Greece_sum(CAST(CustomerID AS BIGINT)), European Community_sum(CAST(Quantity AS BIGINT)), France_sum(CAST(Quantity AS BIGINT)), Lithuania_sum(UnitPrice), Singapore_sum(CAST(Quantity AS BIGINT)), Saudi Arabia_sum(UnitPrice), EIRE_sum(UnitPrice), Unspecified_sum(CAST(CustomerID AS BIGINT)), Brazil_sum(CAST(Quantity AS BIGINT)), Lithuania_sum(CAST(Quantity AS BIGINT)), Bahrain_sum(UnitPrice), Denmark_sum(CAST(Quantity AS BIGINT)), United Kingdom_sum(CAST(Quantity AS BIGINT)), Singapore_sum(UnitPrice), Hong Kong_sum(CAST(CustomerID AS BIGINT)), Belgium_sum(UnitPrice), France_sum(CAST(CustomerID AS BIGINT)), Greece_sum(UnitPrice), Germany_sum(CAST(CustomerID AS BIGINT)), Channel Islands_sum(CAST(CustomerID AS BIGINT)), Czech Republic_sum(CAST(CustomerID AS BIGINT)), Cyprus_sum(UnitPrice), Israel_sum(UnitPrice), Finland_sum(CAST(CustomerID AS BIGINT)), Norway_sum(CAST(Quantity AS BIGINT)), France_sum(UnitPrice), Belgium_sum(CAST(CustomerID AS BIGINT)), Spain_sum(CAST(Quantity AS BIGINT)), Netherlands_sum(CAST(CustomerID AS BIGINT)), EIRE_sum(CAST(Quantity AS BIGINT)), Austria_sum(UnitPrice), Sweden_sum(CAST(CustomerID AS BIGINT)), Unspecified_sum(CAST(Quantity AS BIGINT)), Lithuania_sum(CAST(CustomerID AS BIGINT)), Malta_sum(CAST(Quantity AS BIGINT)), Bahrain_sum(CAST(CustomerID AS BIGINT)), Australia_sum(UnitPrice), Bahrain_sum(CAST(Quantity AS BIGINT)), Austria_sum(CAST(CustomerID AS BIGINT)), date, United Kingdom_sum(UnitPrice), Malta_sum(UnitPrice), Spain_sum(CAST(CustomerID AS BIGINT)), Australia_sum(CAST(Quantity AS BIGINT)), Iceland_sum(CAST(Quantity AS BIGINT)), European Community_sum(UnitPrice), Australia_sum(CAST(CustomerID AS BIGINT)), Japan_sum(UnitPrice), Portugal_sum(CAST(CustomerID AS BIGINT)), Denmark_sum(UnitPrice), RSA_sum(UnitPrice), Spain_sum(UnitPrice), Lebanon_sum(CAST(Quantity AS BIGINT)), Belgium_sum(CAST(Quantity AS BIGINT)), Poland_sum(UnitPrice), Netherlands_sum(UnitPrice), European Community_sum(CAST(CustomerID AS BIGINT)), Channel Islands_sum(UnitPrice), United Arab Emirates_sum(CAST(CustomerID AS BIGINT)), Czech Republic_sum(CAST(Quantity AS BIGINT)), Canada_sum(UnitPrice), Malta_sum(CAST(CustomerID AS BIGINT)), Sweden_sum(CAST(Quantity AS BIGINT)), Lebanon_sum(CAST(CustomerID AS BIGINT)), Norway_sum(CAST(CustomerID AS BIGINT)), Netherlands_sum(CAST(Quantity AS BIGINT)), United Kingdom_sum(CAST(CustomerID AS BIGINT)), Switzerland_sum(UnitPrice), Poland_sum(CAST(CustomerID AS BIGINT)), Sweden_sum(UnitPrice), Japan_sum(CAST(CustomerID AS BIGINT)), Canada_sum(CAST(Quantity AS BIGINT)), Denmark_sum(CAST(CustomerID AS BIGINT)), Japan_sum(CAST(Quantity AS BIGINT)), Greece_sum(CAST(Quantity AS BIGINT)), EIRE_sum(CAST(CustomerID AS BIGINT)), Portugal_sum(UnitPrice), Germany_sum(CAST(Quantity AS BIGINT)), Poland_sum(CAST(Quantity AS BIGINT)), Brazil_sum(UnitPrice)];;\\n'Project [date#1978, 'USA_sum(Qunatity)]\\n+- Filter (cast(date#1978 as string) > 2011-12-05)\\n   +- Project [date#1978, __pivot_sum(CAST(`Quantity` AS BIGINT)) AS `sum(CAST(``Quantity`` AS BIGINT))`#100254[0] AS Australia_sum(CAST(Quantity AS BIGINT))#100411L, __pivot_sum(`UnitPrice`) AS `sum(``UnitPrice``)`#100332[0] AS Australia_sum(UnitPrice)#100412, __pivot_sum(CAST(`CustomerID` AS BIGINT)) AS `sum(CAST(``CustomerID`` AS BIGINT))`#100410[0] AS Australia_sum(CAST(CustomerID AS BIGINT))#100413L, __pivot_sum(CAST(`Quantity` AS BIGINT)) AS `sum(CAST(``Quantity`` AS BIGINT))`#100254[1] AS Austria_sum(CAST(Quantity AS BIGINT))#100414L, __pivot_sum(`UnitPrice`) AS `sum(``UnitPrice``)`#100332[1] AS Austria_sum(UnitPrice)#100415, __pivot_sum(CAST(`CustomerID` AS BIGINT)) AS `sum(CAST(``CustomerID`` AS BIGINT))`#100410[1] AS Austria_sum(CAST(CustomerID AS BIGINT))#100416L, __pivot_sum(CAST(`Quantity` AS BIGINT)) AS `sum(CAST(``Quantity`` AS BIGINT))`#100254[2] AS Bahrain_sum(CAST(Quantity AS BIGINT))#100417L, __pivot_sum(`UnitPrice`) AS `sum(``UnitPrice``)`#100332[2] AS Bahrain_sum(UnitPrice)#100418, __pivot_sum(CAST(`CustomerID` AS BIGINT)) AS `sum(CAST(``CustomerID`` AS BIGINT))`#100410[2] AS Bahrain_sum(CAST(CustomerID AS BIGINT))#100419L, __pivot_sum(CAST(`Quantity` AS BIGINT)) AS `sum(CAST(``Quantity`` AS BIGINT))`#100254[3] AS Belgium_sum(CAST(Quantity AS BIGINT))#100420L, __pivot_sum(`UnitPrice`) AS `sum(``UnitPrice``)`#100332[3] AS Belgium_sum(UnitPrice)#100421, __pivot_sum(CAST(`CustomerID` AS BIGINT)) AS `sum(CAST(``CustomerID`` AS BIGINT))`#100410[3] AS Belgium_sum(CAST(CustomerID AS BIGINT))#100422L, __pivot_sum(CAST(`Quantity` AS BIGINT)) AS `sum(CAST(``Quantity`` AS BIGINT))`#100254[4] AS Brazil_sum(CAST(Quantity AS BIGINT))#100423L, __pivot_sum(`UnitPrice`) AS `sum(``UnitPrice``)`#100332[4] AS Brazil_sum(UnitPrice)#100424, __pivot_sum(CAST(`CustomerID` AS BIGINT)) AS `sum(CAST(``CustomerID`` AS BIGINT))`#100410[4] AS Brazil_sum(CAST(CustomerID AS BIGINT))#100425L, __pivot_sum(CAST(`Quantity` AS BIGINT)) AS `sum(CAST(``Quantity`` AS BIGINT))`#100254[5] AS Canada_sum(CAST(Quantity AS BIGINT))#100426L, __pivot_sum(`UnitPrice`) AS `sum(``UnitPrice``)`#100332[5] AS Canada_sum(UnitPrice)#100427, __pivot_sum(CAST(`CustomerID` AS BIGINT)) AS `sum(CAST(``CustomerID`` AS BIGINT))`#100410[5] AS Canada_sum(CAST(CustomerID AS BIGINT))#100428L, __pivot_sum(CAST(`Quantity` AS BIGINT)) AS `sum(CAST(``Quantity`` AS BIGINT))`#100254[6] AS Channel Islands_sum(CAST(Quantity AS BIGINT))#100429L, __pivot_sum(`UnitPrice`) AS `sum(``UnitPrice``)`#100332[6] AS Channel Islands_sum(UnitPrice)#100430, __pivot_sum(CAST(`CustomerID` AS BIGINT)) AS `sum(CAST(``CustomerID`` AS BIGINT))`#100410[6] AS Channel Islands_sum(CAST(CustomerID AS BIGINT))#100431L, __pivot_sum(CAST(`Quantity` AS BIGINT)) AS `sum(CAST(``Quantity`` AS BIGINT))`#100254[7] AS Cyprus_sum(CAST(Quantity AS BIGINT))#100432L, __pivot_sum(`UnitPrice`) AS `sum(``UnitPrice``)`#100332[7] AS Cyprus_sum(UnitPrice)#100433, ... 91 more fields]\\n      +- Aggregate [date#1978], [date#1978, pivotfirst(Country#17, sum(CAST(`Quantity` AS BIGINT))#100174L, Australia, Austria, Bahrain, Belgium, Brazil, Canada, Channel Islands, Cyprus, Czech Republic, Denmark, EIRE, European Community, Finland, France, Germany, Greece, Hong Kong, Iceland, Israel, Italy, Japan, Lebanon, Lithuania, Malta, Netherlands, Norway, Poland, Portugal, RSA, Saudi Arabia, Singapore, Spain, Sweden, Switzerland, USA, United Arab Emirates, United Kingdom, Unspecified, 0, 0) AS __pivot_sum(CAST(`Quantity` AS BIGINT)) AS `sum(CAST(``Quantity`` AS BIGINT))`#100254, pivotfirst(Country#17, sum(`UnitPrice`)#100175, Australia, Austria, Bahrain, Belgium, Brazil, Canada, Channel Islands, Cyprus, Czech Republic, Denmark, EIRE, European Community, Finland, France, Germany, Greece, Hong Kong, Iceland, Israel, Italy, Japan, Lebanon, Lithuania, Malta, Netherlands, Norway, Poland, Portugal, RSA, Saudi Arabia, Singapore, Spain, Sweden, Switzerland, USA, United Arab Emirates, United Kingdom, Unspecified, 0, 0) AS __pivot_sum(`UnitPrice`) AS `sum(``UnitPrice``)`#100332, pivotfirst(Country#17, sum(CAST(`CustomerID` AS BIGINT))#100176L, Australia, Austria, Bahrain, Belgium, Brazil, Canada, Channel Islands, Cyprus, Czech Republic, Denmark, EIRE, European Community, Finland, France, Germany, Greece, Hong Kong, Iceland, Israel, Italy, Japan, Lebanon, Lithuania, Malta, Netherlands, Norway, Poland, Portugal, RSA, Saudi Arabia, Singapore, Spain, Sweden, Switzerland, USA, United Arab Emirates, United Kingdom, Unspecified, 0, 0) AS __pivot_sum(CAST(`CustomerID` AS BIGINT)) AS `sum(CAST(``CustomerID`` AS BIGINT))`#100410]\\n         +- Aggregate [date#1978, Country#17], [date#1978, Country#17, sum(cast(Quantity#13 as bigint)) AS sum(CAST(`Quantity` AS BIGINT))#100174L, sum(UnitPrice#15) AS sum(`UnitPrice`)#100175, sum(cast(CustomerID#16 as bigint)) AS sum(CAST(`CustomerID` AS BIGINT))#100176L]\\n            +- Project [InvoiceNo#10, StockCode#11, Description#12, Quantity#13, InvoiceDate#14, UnitPrice#15, CustomerID#16, Country#17, to_date('InvoiceDate, Some(MM/d/yyyy H:mm)) AS date#1978]\\n               +- Repartition 5, false\\n                  +- Relation[InvoiceNo#10,StockCode#11,Description#12,Quantity#13,InvoiceDate#14,UnitPrice#15,CustomerID#16,Country#17] csv\\n\"",
     "output_type": "error",
     "traceback": [
      "\u001b[0;31m---------------------------------------------------------------------------\u001b[0m",
      "\u001b[0;31mPy4JJavaError\u001b[0m                             Traceback (most recent call last)",
      "\u001b[0;32m~/dev/venv/spark/lib/python3.6/site-packages/pyspark/sql/utils.py\u001b[0m in \u001b[0;36mdeco\u001b[0;34m(*a, **kw)\u001b[0m\n\u001b[1;32m     62\u001b[0m         \u001b[0;32mtry\u001b[0m\u001b[0;34m:\u001b[0m\u001b[0;34m\u001b[0m\u001b[0;34m\u001b[0m\u001b[0m\n\u001b[0;32m---> 63\u001b[0;31m             \u001b[0;32mreturn\u001b[0m \u001b[0mf\u001b[0m\u001b[0;34m(\u001b[0m\u001b[0;34m*\u001b[0m\u001b[0ma\u001b[0m\u001b[0;34m,\u001b[0m \u001b[0;34m**\u001b[0m\u001b[0mkw\u001b[0m\u001b[0;34m)\u001b[0m\u001b[0;34m\u001b[0m\u001b[0;34m\u001b[0m\u001b[0m\n\u001b[0m\u001b[1;32m     64\u001b[0m         \u001b[0;32mexcept\u001b[0m \u001b[0mpy4j\u001b[0m\u001b[0;34m.\u001b[0m\u001b[0mprotocol\u001b[0m\u001b[0;34m.\u001b[0m\u001b[0mPy4JJavaError\u001b[0m \u001b[0;32mas\u001b[0m \u001b[0me\u001b[0m\u001b[0;34m:\u001b[0m\u001b[0;34m\u001b[0m\u001b[0;34m\u001b[0m\u001b[0m\n",
      "\u001b[0;32m~/dev/venv/spark/lib/python3.6/site-packages/py4j/protocol.py\u001b[0m in \u001b[0;36mget_return_value\u001b[0;34m(answer, gateway_client, target_id, name)\u001b[0m\n\u001b[1;32m    327\u001b[0m                     \u001b[0;34m\"An error occurred while calling {0}{1}{2}.\\n\"\u001b[0m\u001b[0;34m.\u001b[0m\u001b[0;34m\u001b[0m\u001b[0;34m\u001b[0m\u001b[0m\n\u001b[0;32m--> 328\u001b[0;31m                     format(target_id, \".\", name), value)\n\u001b[0m\u001b[1;32m    329\u001b[0m             \u001b[0;32melse\u001b[0m\u001b[0;34m:\u001b[0m\u001b[0;34m\u001b[0m\u001b[0;34m\u001b[0m\u001b[0m\n",
      "\u001b[0;31mPy4JJavaError\u001b[0m: An error occurred while calling o422.select.\n: org.apache.spark.sql.AnalysisException: cannot resolve '`USA_sum(Qunatity)`' given input columns: [Hong Kong_sum(CAST(Quantity AS BIGINT)), United Arab Emirates_sum(UnitPrice), Canada_sum(CAST(CustomerID AS BIGINT)), Iceland_sum(CAST(CustomerID AS BIGINT)), Hong Kong_sum(UnitPrice), RSA_sum(CAST(CustomerID AS BIGINT)), Portugal_sum(CAST(Quantity AS BIGINT)), Channel Islands_sum(CAST(Quantity AS BIGINT)), Singapore_sum(CAST(CustomerID AS BIGINT)), Israel_sum(CAST(Quantity AS BIGINT)), United Arab Emirates_sum(CAST(Quantity AS BIGINT)), Switzerland_sum(CAST(CustomerID AS BIGINT)), Italy_sum(CAST(Quantity AS BIGINT)), Switzerland_sum(CAST(Quantity AS BIGINT)), Cyprus_sum(CAST(Quantity AS BIGINT)), Lebanon_sum(UnitPrice), Finland_sum(UnitPrice), Cyprus_sum(CAST(CustomerID AS BIGINT)), USA_sum(CAST(CustomerID AS BIGINT)), Italy_sum(UnitPrice), Germany_sum(UnitPrice), Austria_sum(CAST(Quantity AS BIGINT)), Brazil_sum(CAST(CustomerID AS BIGINT)), Unspecified_sum(UnitPrice), Norway_sum(UnitPrice), Saudi Arabia_sum(CAST(Quantity AS BIGINT)), Israel_sum(CAST(CustomerID AS BIGINT)), Czech Republic_sum(UnitPrice), USA_sum(CAST(Quantity AS BIGINT)), USA_sum(UnitPrice), Saudi Arabia_sum(CAST(CustomerID AS BIGINT)), RSA_sum(CAST(Quantity AS BIGINT)), Italy_sum(CAST(CustomerID AS BIGINT)), Finland_sum(CAST(Quantity AS BIGINT)), Iceland_sum(UnitPrice), Greece_sum(CAST(CustomerID AS BIGINT)), European Community_sum(CAST(Quantity AS BIGINT)), France_sum(CAST(Quantity AS BIGINT)), Lithuania_sum(UnitPrice), Singapore_sum(CAST(Quantity AS BIGINT)), Saudi Arabia_sum(UnitPrice), EIRE_sum(UnitPrice), Unspecified_sum(CAST(CustomerID AS BIGINT)), Brazil_sum(CAST(Quantity AS BIGINT)), Lithuania_sum(CAST(Quantity AS BIGINT)), Bahrain_sum(UnitPrice), Denmark_sum(CAST(Quantity AS BIGINT)), United Kingdom_sum(CAST(Quantity AS BIGINT)), Singapore_sum(UnitPrice), Hong Kong_sum(CAST(CustomerID AS BIGINT)), Belgium_sum(UnitPrice), France_sum(CAST(CustomerID AS BIGINT)), Greece_sum(UnitPrice), Germany_sum(CAST(CustomerID AS BIGINT)), Channel Islands_sum(CAST(CustomerID AS BIGINT)), Czech Republic_sum(CAST(CustomerID AS BIGINT)), Cyprus_sum(UnitPrice), Israel_sum(UnitPrice), Finland_sum(CAST(CustomerID AS BIGINT)), Norway_sum(CAST(Quantity AS BIGINT)), France_sum(UnitPrice), Belgium_sum(CAST(CustomerID AS BIGINT)), Spain_sum(CAST(Quantity AS BIGINT)), Netherlands_sum(CAST(CustomerID AS BIGINT)), EIRE_sum(CAST(Quantity AS BIGINT)), Austria_sum(UnitPrice), Sweden_sum(CAST(CustomerID AS BIGINT)), Unspecified_sum(CAST(Quantity AS BIGINT)), Lithuania_sum(CAST(CustomerID AS BIGINT)), Malta_sum(CAST(Quantity AS BIGINT)), Bahrain_sum(CAST(CustomerID AS BIGINT)), Australia_sum(UnitPrice), Bahrain_sum(CAST(Quantity AS BIGINT)), Austria_sum(CAST(CustomerID AS BIGINT)), date, United Kingdom_sum(UnitPrice), Malta_sum(UnitPrice), Spain_sum(CAST(CustomerID AS BIGINT)), Australia_sum(CAST(Quantity AS BIGINT)), Iceland_sum(CAST(Quantity AS BIGINT)), European Community_sum(UnitPrice), Australia_sum(CAST(CustomerID AS BIGINT)), Japan_sum(UnitPrice), Portugal_sum(CAST(CustomerID AS BIGINT)), Denmark_sum(UnitPrice), RSA_sum(UnitPrice), Spain_sum(UnitPrice), Lebanon_sum(CAST(Quantity AS BIGINT)), Belgium_sum(CAST(Quantity AS BIGINT)), Poland_sum(UnitPrice), Netherlands_sum(UnitPrice), European Community_sum(CAST(CustomerID AS BIGINT)), Channel Islands_sum(UnitPrice), United Arab Emirates_sum(CAST(CustomerID AS BIGINT)), Czech Republic_sum(CAST(Quantity AS BIGINT)), Canada_sum(UnitPrice), Malta_sum(CAST(CustomerID AS BIGINT)), Sweden_sum(CAST(Quantity AS BIGINT)), Lebanon_sum(CAST(CustomerID AS BIGINT)), Norway_sum(CAST(CustomerID AS BIGINT)), Netherlands_sum(CAST(Quantity AS BIGINT)), United Kingdom_sum(CAST(CustomerID AS BIGINT)), Switzerland_sum(UnitPrice), Poland_sum(CAST(CustomerID AS BIGINT)), Sweden_sum(UnitPrice), Japan_sum(CAST(CustomerID AS BIGINT)), Canada_sum(CAST(Quantity AS BIGINT)), Denmark_sum(CAST(CustomerID AS BIGINT)), Japan_sum(CAST(Quantity AS BIGINT)), Greece_sum(CAST(Quantity AS BIGINT)), EIRE_sum(CAST(CustomerID AS BIGINT)), Portugal_sum(UnitPrice), Germany_sum(CAST(Quantity AS BIGINT)), Poland_sum(CAST(Quantity AS BIGINT)), Brazil_sum(UnitPrice)];;\n'Project [date#1978, 'USA_sum(Qunatity)]\n+- Filter (cast(date#1978 as string) > 2011-12-05)\n   +- Project [date#1978, __pivot_sum(CAST(`Quantity` AS BIGINT)) AS `sum(CAST(``Quantity`` AS BIGINT))`#100254[0] AS Australia_sum(CAST(Quantity AS BIGINT))#100411L, __pivot_sum(`UnitPrice`) AS `sum(``UnitPrice``)`#100332[0] AS Australia_sum(UnitPrice)#100412, __pivot_sum(CAST(`CustomerID` AS BIGINT)) AS `sum(CAST(``CustomerID`` AS BIGINT))`#100410[0] AS Australia_sum(CAST(CustomerID AS BIGINT))#100413L, __pivot_sum(CAST(`Quantity` AS BIGINT)) AS `sum(CAST(``Quantity`` AS BIGINT))`#100254[1] AS Austria_sum(CAST(Quantity AS BIGINT))#100414L, __pivot_sum(`UnitPrice`) AS `sum(``UnitPrice``)`#100332[1] AS Austria_sum(UnitPrice)#100415, __pivot_sum(CAST(`CustomerID` AS BIGINT)) AS `sum(CAST(``CustomerID`` AS BIGINT))`#100410[1] AS Austria_sum(CAST(CustomerID AS BIGINT))#100416L, __pivot_sum(CAST(`Quantity` AS BIGINT)) AS `sum(CAST(``Quantity`` AS BIGINT))`#100254[2] AS Bahrain_sum(CAST(Quantity AS BIGINT))#100417L, __pivot_sum(`UnitPrice`) AS `sum(``UnitPrice``)`#100332[2] AS Bahrain_sum(UnitPrice)#100418, __pivot_sum(CAST(`CustomerID` AS BIGINT)) AS `sum(CAST(``CustomerID`` AS BIGINT))`#100410[2] AS Bahrain_sum(CAST(CustomerID AS BIGINT))#100419L, __pivot_sum(CAST(`Quantity` AS BIGINT)) AS `sum(CAST(``Quantity`` AS BIGINT))`#100254[3] AS Belgium_sum(CAST(Quantity AS BIGINT))#100420L, __pivot_sum(`UnitPrice`) AS `sum(``UnitPrice``)`#100332[3] AS Belgium_sum(UnitPrice)#100421, __pivot_sum(CAST(`CustomerID` AS BIGINT)) AS `sum(CAST(``CustomerID`` AS BIGINT))`#100410[3] AS Belgium_sum(CAST(CustomerID AS BIGINT))#100422L, __pivot_sum(CAST(`Quantity` AS BIGINT)) AS `sum(CAST(``Quantity`` AS BIGINT))`#100254[4] AS Brazil_sum(CAST(Quantity AS BIGINT))#100423L, __pivot_sum(`UnitPrice`) AS `sum(``UnitPrice``)`#100332[4] AS Brazil_sum(UnitPrice)#100424, __pivot_sum(CAST(`CustomerID` AS BIGINT)) AS `sum(CAST(``CustomerID`` AS BIGINT))`#100410[4] AS Brazil_sum(CAST(CustomerID AS BIGINT))#100425L, __pivot_sum(CAST(`Quantity` AS BIGINT)) AS `sum(CAST(``Quantity`` AS BIGINT))`#100254[5] AS Canada_sum(CAST(Quantity AS BIGINT))#100426L, __pivot_sum(`UnitPrice`) AS `sum(``UnitPrice``)`#100332[5] AS Canada_sum(UnitPrice)#100427, __pivot_sum(CAST(`CustomerID` AS BIGINT)) AS `sum(CAST(``CustomerID`` AS BIGINT))`#100410[5] AS Canada_sum(CAST(CustomerID AS BIGINT))#100428L, __pivot_sum(CAST(`Quantity` AS BIGINT)) AS `sum(CAST(``Quantity`` AS BIGINT))`#100254[6] AS Channel Islands_sum(CAST(Quantity AS BIGINT))#100429L, __pivot_sum(`UnitPrice`) AS `sum(``UnitPrice``)`#100332[6] AS Channel Islands_sum(UnitPrice)#100430, __pivot_sum(CAST(`CustomerID` AS BIGINT)) AS `sum(CAST(``CustomerID`` AS BIGINT))`#100410[6] AS Channel Islands_sum(CAST(CustomerID AS BIGINT))#100431L, __pivot_sum(CAST(`Quantity` AS BIGINT)) AS `sum(CAST(``Quantity`` AS BIGINT))`#100254[7] AS Cyprus_sum(CAST(Quantity AS BIGINT))#100432L, __pivot_sum(`UnitPrice`) AS `sum(``UnitPrice``)`#100332[7] AS Cyprus_sum(UnitPrice)#100433, ... 91 more fields]\n      +- Aggregate [date#1978], [date#1978, pivotfirst(Country#17, sum(CAST(`Quantity` AS BIGINT))#100174L, Australia, Austria, Bahrain, Belgium, Brazil, Canada, Channel Islands, Cyprus, Czech Republic, Denmark, EIRE, European Community, Finland, France, Germany, Greece, Hong Kong, Iceland, Israel, Italy, Japan, Lebanon, Lithuania, Malta, Netherlands, Norway, Poland, Portugal, RSA, Saudi Arabia, Singapore, Spain, Sweden, Switzerland, USA, United Arab Emirates, United Kingdom, Unspecified, 0, 0) AS __pivot_sum(CAST(`Quantity` AS BIGINT)) AS `sum(CAST(``Quantity`` AS BIGINT))`#100254, pivotfirst(Country#17, sum(`UnitPrice`)#100175, Australia, Austria, Bahrain, Belgium, Brazil, Canada, Channel Islands, Cyprus, Czech Republic, Denmark, EIRE, European Community, Finland, France, Germany, Greece, Hong Kong, Iceland, Israel, Italy, Japan, Lebanon, Lithuania, Malta, Netherlands, Norway, Poland, Portugal, RSA, Saudi Arabia, Singapore, Spain, Sweden, Switzerland, USA, United Arab Emirates, United Kingdom, Unspecified, 0, 0) AS __pivot_sum(`UnitPrice`) AS `sum(``UnitPrice``)`#100332, pivotfirst(Country#17, sum(CAST(`CustomerID` AS BIGINT))#100176L, Australia, Austria, Bahrain, Belgium, Brazil, Canada, Channel Islands, Cyprus, Czech Republic, Denmark, EIRE, European Community, Finland, France, Germany, Greece, Hong Kong, Iceland, Israel, Italy, Japan, Lebanon, Lithuania, Malta, Netherlands, Norway, Poland, Portugal, RSA, Saudi Arabia, Singapore, Spain, Sweden, Switzerland, USA, United Arab Emirates, United Kingdom, Unspecified, 0, 0) AS __pivot_sum(CAST(`CustomerID` AS BIGINT)) AS `sum(CAST(``CustomerID`` AS BIGINT))`#100410]\n         +- Aggregate [date#1978, Country#17], [date#1978, Country#17, sum(cast(Quantity#13 as bigint)) AS sum(CAST(`Quantity` AS BIGINT))#100174L, sum(UnitPrice#15) AS sum(`UnitPrice`)#100175, sum(cast(CustomerID#16 as bigint)) AS sum(CAST(`CustomerID` AS BIGINT))#100176L]\n            +- Project [InvoiceNo#10, StockCode#11, Description#12, Quantity#13, InvoiceDate#14, UnitPrice#15, CustomerID#16, Country#17, to_date('InvoiceDate, Some(MM/d/yyyy H:mm)) AS date#1978]\n               +- Repartition 5, false\n                  +- Relation[InvoiceNo#10,StockCode#11,Description#12,Quantity#13,InvoiceDate#14,UnitPrice#15,CustomerID#16,Country#17] csv\n\n\tat org.apache.spark.sql.catalyst.analysis.package$AnalysisErrorAt.failAnalysis(package.scala:42)\n\tat org.apache.spark.sql.catalyst.analysis.CheckAnalysis$$anonfun$checkAnalysis$1$$anonfun$apply$3.applyOrElse(CheckAnalysis.scala:111)\n\tat org.apache.spark.sql.catalyst.analysis.CheckAnalysis$$anonfun$checkAnalysis$1$$anonfun$apply$3.applyOrElse(CheckAnalysis.scala:108)\n\tat org.apache.spark.sql.catalyst.trees.TreeNode$$anonfun$transformUp$1.apply(TreeNode.scala:280)\n\tat org.apache.spark.sql.catalyst.trees.TreeNode$$anonfun$transformUp$1.apply(TreeNode.scala:280)\n\tat org.apache.spark.sql.catalyst.trees.CurrentOrigin$.withOrigin(TreeNode.scala:69)\n\tat org.apache.spark.sql.catalyst.trees.TreeNode.transformUp(TreeNode.scala:279)\n\tat org.apache.spark.sql.catalyst.plans.QueryPlan$$anonfun$transformExpressionsUp$1.apply(QueryPlan.scala:93)\n\tat org.apache.spark.sql.catalyst.plans.QueryPlan$$anonfun$transformExpressionsUp$1.apply(QueryPlan.scala:93)\n\tat org.apache.spark.sql.catalyst.plans.QueryPlan$$anonfun$1.apply(QueryPlan.scala:105)\n\tat org.apache.spark.sql.catalyst.plans.QueryPlan$$anonfun$1.apply(QueryPlan.scala:105)\n\tat org.apache.spark.sql.catalyst.trees.CurrentOrigin$.withOrigin(TreeNode.scala:69)\n\tat org.apache.spark.sql.catalyst.plans.QueryPlan.transformExpression$1(QueryPlan.scala:104)\n\tat org.apache.spark.sql.catalyst.plans.QueryPlan.org$apache$spark$sql$catalyst$plans$QueryPlan$$recursiveTransform$1(QueryPlan.scala:116)\n\tat org.apache.spark.sql.catalyst.plans.QueryPlan$$anonfun$org$apache$spark$sql$catalyst$plans$QueryPlan$$recursiveTransform$1$2.apply(QueryPlan.scala:121)\n\tat scala.collection.TraversableLike$$anonfun$map$1.apply(TraversableLike.scala:234)\n\tat scala.collection.TraversableLike$$anonfun$map$1.apply(TraversableLike.scala:234)\n\tat scala.collection.mutable.ResizableArray$class.foreach(ResizableArray.scala:59)\n\tat scala.collection.mutable.ArrayBuffer.foreach(ArrayBuffer.scala:48)\n\tat scala.collection.TraversableLike$class.map(TraversableLike.scala:234)\n\tat scala.collection.AbstractTraversable.map(Traversable.scala:104)\n\tat org.apache.spark.sql.catalyst.plans.QueryPlan.org$apache$spark$sql$catalyst$plans$QueryPlan$$recursiveTransform$1(QueryPlan.scala:121)\n\tat org.apache.spark.sql.catalyst.plans.QueryPlan$$anonfun$2.apply(QueryPlan.scala:126)\n\tat org.apache.spark.sql.catalyst.trees.TreeNode.mapProductIterator(TreeNode.scala:186)\n\tat org.apache.spark.sql.catalyst.plans.QueryPlan.mapExpressions(QueryPlan.scala:126)\n\tat org.apache.spark.sql.catalyst.plans.QueryPlan.transformExpressionsUp(QueryPlan.scala:93)\n\tat org.apache.spark.sql.catalyst.analysis.CheckAnalysis$$anonfun$checkAnalysis$1.apply(CheckAnalysis.scala:108)\n\tat org.apache.spark.sql.catalyst.analysis.CheckAnalysis$$anonfun$checkAnalysis$1.apply(CheckAnalysis.scala:86)\n\tat org.apache.spark.sql.catalyst.trees.TreeNode.foreachUp(TreeNode.scala:126)\n\tat org.apache.spark.sql.catalyst.analysis.CheckAnalysis$class.checkAnalysis(CheckAnalysis.scala:86)\n\tat org.apache.spark.sql.catalyst.analysis.Analyzer.checkAnalysis(Analyzer.scala:95)\n\tat org.apache.spark.sql.catalyst.analysis.Analyzer$$anonfun$executeAndCheck$1.apply(Analyzer.scala:108)\n\tat org.apache.spark.sql.catalyst.analysis.Analyzer$$anonfun$executeAndCheck$1.apply(Analyzer.scala:105)\n\tat org.apache.spark.sql.catalyst.plans.logical.AnalysisHelper$.markInAnalyzer(AnalysisHelper.scala:201)\n\tat org.apache.spark.sql.catalyst.analysis.Analyzer.executeAndCheck(Analyzer.scala:105)\n\tat org.apache.spark.sql.execution.QueryExecution.analyzed$lzycompute(QueryExecution.scala:58)\n\tat org.apache.spark.sql.execution.QueryExecution.analyzed(QueryExecution.scala:56)\n\tat org.apache.spark.sql.execution.QueryExecution.assertAnalyzed(QueryExecution.scala:48)\n\tat org.apache.spark.sql.Dataset$.ofRows(Dataset.scala:78)\n\tat org.apache.spark.sql.Dataset.org$apache$spark$sql$Dataset$$withPlan(Dataset.scala:3412)\n\tat org.apache.spark.sql.Dataset.select(Dataset.scala:1340)\n\tat sun.reflect.NativeMethodAccessorImpl.invoke0(Native Method)\n\tat sun.reflect.NativeMethodAccessorImpl.invoke(NativeMethodAccessorImpl.java:62)\n\tat sun.reflect.DelegatingMethodAccessorImpl.invoke(DelegatingMethodAccessorImpl.java:43)\n\tat java.lang.reflect.Method.invoke(Method.java:498)\n\tat py4j.reflection.MethodInvoker.invoke(MethodInvoker.java:244)\n\tat py4j.reflection.ReflectionEngine.invoke(ReflectionEngine.java:357)\n\tat py4j.Gateway.invoke(Gateway.java:282)\n\tat py4j.commands.AbstractCommand.invokeMethod(AbstractCommand.java:132)\n\tat py4j.commands.CallCommand.execute(CallCommand.java:79)\n\tat py4j.GatewayConnection.run(GatewayConnection.java:238)\n\tat java.lang.Thread.run(Thread.java:748)\n",
      "\nDuring handling of the above exception, another exception occurred:\n",
      "\u001b[0;31mAnalysisException\u001b[0m                         Traceback (most recent call last)",
      "\u001b[0;32m<ipython-input-32-356ea839024d>\u001b[0m in \u001b[0;36m<module>\u001b[0;34m\u001b[0m\n\u001b[0;32m----> 1\u001b[0;31m \u001b[0mpivoted\u001b[0m\u001b[0;34m.\u001b[0m\u001b[0mwhere\u001b[0m\u001b[0;34m(\u001b[0m\u001b[0;34m\"date > '2011-12-05'\"\u001b[0m\u001b[0;34m)\u001b[0m\u001b[0;34m.\u001b[0m\u001b[0mselect\u001b[0m\u001b[0;34m(\u001b[0m\u001b[0;34m\"date\"\u001b[0m\u001b[0;34m,\u001b[0m \u001b[0;34m\"`USA_sum(Qunatity)`\"\u001b[0m\u001b[0;34m)\u001b[0m\u001b[0;34m.\u001b[0m\u001b[0mshow\u001b[0m\u001b[0;34m(\u001b[0m\u001b[0;34m)\u001b[0m\u001b[0;34m\u001b[0m\u001b[0;34m\u001b[0m\u001b[0m\n\u001b[0m",
      "\u001b[0;32m~/dev/venv/spark/lib/python3.6/site-packages/pyspark/sql/dataframe.py\u001b[0m in \u001b[0;36mselect\u001b[0;34m(self, *cols)\u001b[0m\n\u001b[1;32m   1322\u001b[0m         \u001b[0;34m[\u001b[0m\u001b[0mRow\u001b[0m\u001b[0;34m(\u001b[0m\u001b[0mname\u001b[0m\u001b[0;34m=\u001b[0m\u001b[0;34mu'Alice'\u001b[0m\u001b[0;34m,\u001b[0m \u001b[0mage\u001b[0m\u001b[0;34m=\u001b[0m\u001b[0;36m12\u001b[0m\u001b[0;34m)\u001b[0m\u001b[0;34m,\u001b[0m \u001b[0mRow\u001b[0m\u001b[0;34m(\u001b[0m\u001b[0mname\u001b[0m\u001b[0;34m=\u001b[0m\u001b[0;34mu'Bob'\u001b[0m\u001b[0;34m,\u001b[0m \u001b[0mage\u001b[0m\u001b[0;34m=\u001b[0m\u001b[0;36m15\u001b[0m\u001b[0;34m)\u001b[0m\u001b[0;34m]\u001b[0m\u001b[0;34m\u001b[0m\u001b[0;34m\u001b[0m\u001b[0m\n\u001b[1;32m   1323\u001b[0m         \"\"\"\n\u001b[0;32m-> 1324\u001b[0;31m         \u001b[0mjdf\u001b[0m \u001b[0;34m=\u001b[0m \u001b[0mself\u001b[0m\u001b[0;34m.\u001b[0m\u001b[0m_jdf\u001b[0m\u001b[0;34m.\u001b[0m\u001b[0mselect\u001b[0m\u001b[0;34m(\u001b[0m\u001b[0mself\u001b[0m\u001b[0;34m.\u001b[0m\u001b[0m_jcols\u001b[0m\u001b[0;34m(\u001b[0m\u001b[0;34m*\u001b[0m\u001b[0mcols\u001b[0m\u001b[0;34m)\u001b[0m\u001b[0;34m)\u001b[0m\u001b[0;34m\u001b[0m\u001b[0;34m\u001b[0m\u001b[0m\n\u001b[0m\u001b[1;32m   1325\u001b[0m         \u001b[0;32mreturn\u001b[0m \u001b[0mDataFrame\u001b[0m\u001b[0;34m(\u001b[0m\u001b[0mjdf\u001b[0m\u001b[0;34m,\u001b[0m \u001b[0mself\u001b[0m\u001b[0;34m.\u001b[0m\u001b[0msql_ctx\u001b[0m\u001b[0;34m)\u001b[0m\u001b[0;34m\u001b[0m\u001b[0;34m\u001b[0m\u001b[0m\n\u001b[1;32m   1326\u001b[0m \u001b[0;34m\u001b[0m\u001b[0m\n",
      "\u001b[0;32m~/dev/venv/spark/lib/python3.6/site-packages/py4j/java_gateway.py\u001b[0m in \u001b[0;36m__call__\u001b[0;34m(self, *args)\u001b[0m\n\u001b[1;32m   1255\u001b[0m         \u001b[0manswer\u001b[0m \u001b[0;34m=\u001b[0m \u001b[0mself\u001b[0m\u001b[0;34m.\u001b[0m\u001b[0mgateway_client\u001b[0m\u001b[0;34m.\u001b[0m\u001b[0msend_command\u001b[0m\u001b[0;34m(\u001b[0m\u001b[0mcommand\u001b[0m\u001b[0;34m)\u001b[0m\u001b[0;34m\u001b[0m\u001b[0;34m\u001b[0m\u001b[0m\n\u001b[1;32m   1256\u001b[0m         return_value = get_return_value(\n\u001b[0;32m-> 1257\u001b[0;31m             answer, self.gateway_client, self.target_id, self.name)\n\u001b[0m\u001b[1;32m   1258\u001b[0m \u001b[0;34m\u001b[0m\u001b[0m\n\u001b[1;32m   1259\u001b[0m         \u001b[0;32mfor\u001b[0m \u001b[0mtemp_arg\u001b[0m \u001b[0;32min\u001b[0m \u001b[0mtemp_args\u001b[0m\u001b[0;34m:\u001b[0m\u001b[0;34m\u001b[0m\u001b[0;34m\u001b[0m\u001b[0m\n",
      "\u001b[0;32m~/dev/venv/spark/lib/python3.6/site-packages/pyspark/sql/utils.py\u001b[0m in \u001b[0;36mdeco\u001b[0;34m(*a, **kw)\u001b[0m\n\u001b[1;32m     67\u001b[0m                                              e.java_exception.getStackTrace()))\n\u001b[1;32m     68\u001b[0m             \u001b[0;32mif\u001b[0m \u001b[0ms\u001b[0m\u001b[0;34m.\u001b[0m\u001b[0mstartswith\u001b[0m\u001b[0;34m(\u001b[0m\u001b[0;34m'org.apache.spark.sql.AnalysisException: '\u001b[0m\u001b[0;34m)\u001b[0m\u001b[0;34m:\u001b[0m\u001b[0;34m\u001b[0m\u001b[0;34m\u001b[0m\u001b[0m\n\u001b[0;32m---> 69\u001b[0;31m                 \u001b[0;32mraise\u001b[0m \u001b[0mAnalysisException\u001b[0m\u001b[0;34m(\u001b[0m\u001b[0ms\u001b[0m\u001b[0;34m.\u001b[0m\u001b[0msplit\u001b[0m\u001b[0;34m(\u001b[0m\u001b[0;34m': '\u001b[0m\u001b[0;34m,\u001b[0m \u001b[0;36m1\u001b[0m\u001b[0;34m)\u001b[0m\u001b[0;34m[\u001b[0m\u001b[0;36m1\u001b[0m\u001b[0;34m]\u001b[0m\u001b[0;34m,\u001b[0m \u001b[0mstackTrace\u001b[0m\u001b[0;34m)\u001b[0m\u001b[0;34m\u001b[0m\u001b[0;34m\u001b[0m\u001b[0m\n\u001b[0m\u001b[1;32m     70\u001b[0m             \u001b[0;32mif\u001b[0m \u001b[0ms\u001b[0m\u001b[0;34m.\u001b[0m\u001b[0mstartswith\u001b[0m\u001b[0;34m(\u001b[0m\u001b[0;34m'org.apache.spark.sql.catalyst.analysis'\u001b[0m\u001b[0;34m)\u001b[0m\u001b[0;34m:\u001b[0m\u001b[0;34m\u001b[0m\u001b[0;34m\u001b[0m\u001b[0m\n\u001b[1;32m     71\u001b[0m                 \u001b[0;32mraise\u001b[0m \u001b[0mAnalysisException\u001b[0m\u001b[0;34m(\u001b[0m\u001b[0ms\u001b[0m\u001b[0;34m.\u001b[0m\u001b[0msplit\u001b[0m\u001b[0;34m(\u001b[0m\u001b[0;34m': '\u001b[0m\u001b[0;34m,\u001b[0m \u001b[0;36m1\u001b[0m\u001b[0;34m)\u001b[0m\u001b[0;34m[\u001b[0m\u001b[0;36m1\u001b[0m\u001b[0;34m]\u001b[0m\u001b[0;34m,\u001b[0m \u001b[0mstackTrace\u001b[0m\u001b[0;34m)\u001b[0m\u001b[0;34m\u001b[0m\u001b[0;34m\u001b[0m\u001b[0m\n",
      "\u001b[0;31mAnalysisException\u001b[0m: \"cannot resolve '`USA_sum(Qunatity)`' given input columns: [Hong Kong_sum(CAST(Quantity AS BIGINT)), United Arab Emirates_sum(UnitPrice), Canada_sum(CAST(CustomerID AS BIGINT)), Iceland_sum(CAST(CustomerID AS BIGINT)), Hong Kong_sum(UnitPrice), RSA_sum(CAST(CustomerID AS BIGINT)), Portugal_sum(CAST(Quantity AS BIGINT)), Channel Islands_sum(CAST(Quantity AS BIGINT)), Singapore_sum(CAST(CustomerID AS BIGINT)), Israel_sum(CAST(Quantity AS BIGINT)), United Arab Emirates_sum(CAST(Quantity AS BIGINT)), Switzerland_sum(CAST(CustomerID AS BIGINT)), Italy_sum(CAST(Quantity AS BIGINT)), Switzerland_sum(CAST(Quantity AS BIGINT)), Cyprus_sum(CAST(Quantity AS BIGINT)), Lebanon_sum(UnitPrice), Finland_sum(UnitPrice), Cyprus_sum(CAST(CustomerID AS BIGINT)), USA_sum(CAST(CustomerID AS BIGINT)), Italy_sum(UnitPrice), Germany_sum(UnitPrice), Austria_sum(CAST(Quantity AS BIGINT)), Brazil_sum(CAST(CustomerID AS BIGINT)), Unspecified_sum(UnitPrice), Norway_sum(UnitPrice), Saudi Arabia_sum(CAST(Quantity AS BIGINT)), Israel_sum(CAST(CustomerID AS BIGINT)), Czech Republic_sum(UnitPrice), USA_sum(CAST(Quantity AS BIGINT)), USA_sum(UnitPrice), Saudi Arabia_sum(CAST(CustomerID AS BIGINT)), RSA_sum(CAST(Quantity AS BIGINT)), Italy_sum(CAST(CustomerID AS BIGINT)), Finland_sum(CAST(Quantity AS BIGINT)), Iceland_sum(UnitPrice), Greece_sum(CAST(CustomerID AS BIGINT)), European Community_sum(CAST(Quantity AS BIGINT)), France_sum(CAST(Quantity AS BIGINT)), Lithuania_sum(UnitPrice), Singapore_sum(CAST(Quantity AS BIGINT)), Saudi Arabia_sum(UnitPrice), EIRE_sum(UnitPrice), Unspecified_sum(CAST(CustomerID AS BIGINT)), Brazil_sum(CAST(Quantity AS BIGINT)), Lithuania_sum(CAST(Quantity AS BIGINT)), Bahrain_sum(UnitPrice), Denmark_sum(CAST(Quantity AS BIGINT)), United Kingdom_sum(CAST(Quantity AS BIGINT)), Singapore_sum(UnitPrice), Hong Kong_sum(CAST(CustomerID AS BIGINT)), Belgium_sum(UnitPrice), France_sum(CAST(CustomerID AS BIGINT)), Greece_sum(UnitPrice), Germany_sum(CAST(CustomerID AS BIGINT)), Channel Islands_sum(CAST(CustomerID AS BIGINT)), Czech Republic_sum(CAST(CustomerID AS BIGINT)), Cyprus_sum(UnitPrice), Israel_sum(UnitPrice), Finland_sum(CAST(CustomerID AS BIGINT)), Norway_sum(CAST(Quantity AS BIGINT)), France_sum(UnitPrice), Belgium_sum(CAST(CustomerID AS BIGINT)), Spain_sum(CAST(Quantity AS BIGINT)), Netherlands_sum(CAST(CustomerID AS BIGINT)), EIRE_sum(CAST(Quantity AS BIGINT)), Austria_sum(UnitPrice), Sweden_sum(CAST(CustomerID AS BIGINT)), Unspecified_sum(CAST(Quantity AS BIGINT)), Lithuania_sum(CAST(CustomerID AS BIGINT)), Malta_sum(CAST(Quantity AS BIGINT)), Bahrain_sum(CAST(CustomerID AS BIGINT)), Australia_sum(UnitPrice), Bahrain_sum(CAST(Quantity AS BIGINT)), Austria_sum(CAST(CustomerID AS BIGINT)), date, United Kingdom_sum(UnitPrice), Malta_sum(UnitPrice), Spain_sum(CAST(CustomerID AS BIGINT)), Australia_sum(CAST(Quantity AS BIGINT)), Iceland_sum(CAST(Quantity AS BIGINT)), European Community_sum(UnitPrice), Australia_sum(CAST(CustomerID AS BIGINT)), Japan_sum(UnitPrice), Portugal_sum(CAST(CustomerID AS BIGINT)), Denmark_sum(UnitPrice), RSA_sum(UnitPrice), Spain_sum(UnitPrice), Lebanon_sum(CAST(Quantity AS BIGINT)), Belgium_sum(CAST(Quantity AS BIGINT)), Poland_sum(UnitPrice), Netherlands_sum(UnitPrice), European Community_sum(CAST(CustomerID AS BIGINT)), Channel Islands_sum(UnitPrice), United Arab Emirates_sum(CAST(CustomerID AS BIGINT)), Czech Republic_sum(CAST(Quantity AS BIGINT)), Canada_sum(UnitPrice), Malta_sum(CAST(CustomerID AS BIGINT)), Sweden_sum(CAST(Quantity AS BIGINT)), Lebanon_sum(CAST(CustomerID AS BIGINT)), Norway_sum(CAST(CustomerID AS BIGINT)), Netherlands_sum(CAST(Quantity AS BIGINT)), United Kingdom_sum(CAST(CustomerID AS BIGINT)), Switzerland_sum(UnitPrice), Poland_sum(CAST(CustomerID AS BIGINT)), Sweden_sum(UnitPrice), Japan_sum(CAST(CustomerID AS BIGINT)), Canada_sum(CAST(Quantity AS BIGINT)), Denmark_sum(CAST(CustomerID AS BIGINT)), Japan_sum(CAST(Quantity AS BIGINT)), Greece_sum(CAST(Quantity AS BIGINT)), EIRE_sum(CAST(CustomerID AS BIGINT)), Portugal_sum(UnitPrice), Germany_sum(CAST(Quantity AS BIGINT)), Poland_sum(CAST(Quantity AS BIGINT)), Brazil_sum(UnitPrice)];;\\n'Project [date#1978, 'USA_sum(Qunatity)]\\n+- Filter (cast(date#1978 as string) > 2011-12-05)\\n   +- Project [date#1978, __pivot_sum(CAST(`Quantity` AS BIGINT)) AS `sum(CAST(``Quantity`` AS BIGINT))`#100254[0] AS Australia_sum(CAST(Quantity AS BIGINT))#100411L, __pivot_sum(`UnitPrice`) AS `sum(``UnitPrice``)`#100332[0] AS Australia_sum(UnitPrice)#100412, __pivot_sum(CAST(`CustomerID` AS BIGINT)) AS `sum(CAST(``CustomerID`` AS BIGINT))`#100410[0] AS Australia_sum(CAST(CustomerID AS BIGINT))#100413L, __pivot_sum(CAST(`Quantity` AS BIGINT)) AS `sum(CAST(``Quantity`` AS BIGINT))`#100254[1] AS Austria_sum(CAST(Quantity AS BIGINT))#100414L, __pivot_sum(`UnitPrice`) AS `sum(``UnitPrice``)`#100332[1] AS Austria_sum(UnitPrice)#100415, __pivot_sum(CAST(`CustomerID` AS BIGINT)) AS `sum(CAST(``CustomerID`` AS BIGINT))`#100410[1] AS Austria_sum(CAST(CustomerID AS BIGINT))#100416L, __pivot_sum(CAST(`Quantity` AS BIGINT)) AS `sum(CAST(``Quantity`` AS BIGINT))`#100254[2] AS Bahrain_sum(CAST(Quantity AS BIGINT))#100417L, __pivot_sum(`UnitPrice`) AS `sum(``UnitPrice``)`#100332[2] AS Bahrain_sum(UnitPrice)#100418, __pivot_sum(CAST(`CustomerID` AS BIGINT)) AS `sum(CAST(``CustomerID`` AS BIGINT))`#100410[2] AS Bahrain_sum(CAST(CustomerID AS BIGINT))#100419L, __pivot_sum(CAST(`Quantity` AS BIGINT)) AS `sum(CAST(``Quantity`` AS BIGINT))`#100254[3] AS Belgium_sum(CAST(Quantity AS BIGINT))#100420L, __pivot_sum(`UnitPrice`) AS `sum(``UnitPrice``)`#100332[3] AS Belgium_sum(UnitPrice)#100421, __pivot_sum(CAST(`CustomerID` AS BIGINT)) AS `sum(CAST(``CustomerID`` AS BIGINT))`#100410[3] AS Belgium_sum(CAST(CustomerID AS BIGINT))#100422L, __pivot_sum(CAST(`Quantity` AS BIGINT)) AS `sum(CAST(``Quantity`` AS BIGINT))`#100254[4] AS Brazil_sum(CAST(Quantity AS BIGINT))#100423L, __pivot_sum(`UnitPrice`) AS `sum(``UnitPrice``)`#100332[4] AS Brazil_sum(UnitPrice)#100424, __pivot_sum(CAST(`CustomerID` AS BIGINT)) AS `sum(CAST(``CustomerID`` AS BIGINT))`#100410[4] AS Brazil_sum(CAST(CustomerID AS BIGINT))#100425L, __pivot_sum(CAST(`Quantity` AS BIGINT)) AS `sum(CAST(``Quantity`` AS BIGINT))`#100254[5] AS Canada_sum(CAST(Quantity AS BIGINT))#100426L, __pivot_sum(`UnitPrice`) AS `sum(``UnitPrice``)`#100332[5] AS Canada_sum(UnitPrice)#100427, __pivot_sum(CAST(`CustomerID` AS BIGINT)) AS `sum(CAST(``CustomerID`` AS BIGINT))`#100410[5] AS Canada_sum(CAST(CustomerID AS BIGINT))#100428L, __pivot_sum(CAST(`Quantity` AS BIGINT)) AS `sum(CAST(``Quantity`` AS BIGINT))`#100254[6] AS Channel Islands_sum(CAST(Quantity AS BIGINT))#100429L, __pivot_sum(`UnitPrice`) AS `sum(``UnitPrice``)`#100332[6] AS Channel Islands_sum(UnitPrice)#100430, __pivot_sum(CAST(`CustomerID` AS BIGINT)) AS `sum(CAST(``CustomerID`` AS BIGINT))`#100410[6] AS Channel Islands_sum(CAST(CustomerID AS BIGINT))#100431L, __pivot_sum(CAST(`Quantity` AS BIGINT)) AS `sum(CAST(``Quantity`` AS BIGINT))`#100254[7] AS Cyprus_sum(CAST(Quantity AS BIGINT))#100432L, __pivot_sum(`UnitPrice`) AS `sum(``UnitPrice``)`#100332[7] AS Cyprus_sum(UnitPrice)#100433, ... 91 more fields]\\n      +- Aggregate [date#1978], [date#1978, pivotfirst(Country#17, sum(CAST(`Quantity` AS BIGINT))#100174L, Australia, Austria, Bahrain, Belgium, Brazil, Canada, Channel Islands, Cyprus, Czech Republic, Denmark, EIRE, European Community, Finland, France, Germany, Greece, Hong Kong, Iceland, Israel, Italy, Japan, Lebanon, Lithuania, Malta, Netherlands, Norway, Poland, Portugal, RSA, Saudi Arabia, Singapore, Spain, Sweden, Switzerland, USA, United Arab Emirates, United Kingdom, Unspecified, 0, 0) AS __pivot_sum(CAST(`Quantity` AS BIGINT)) AS `sum(CAST(``Quantity`` AS BIGINT))`#100254, pivotfirst(Country#17, sum(`UnitPrice`)#100175, Australia, Austria, Bahrain, Belgium, Brazil, Canada, Channel Islands, Cyprus, Czech Republic, Denmark, EIRE, European Community, Finland, France, Germany, Greece, Hong Kong, Iceland, Israel, Italy, Japan, Lebanon, Lithuania, Malta, Netherlands, Norway, Poland, Portugal, RSA, Saudi Arabia, Singapore, Spain, Sweden, Switzerland, USA, United Arab Emirates, United Kingdom, Unspecified, 0, 0) AS __pivot_sum(`UnitPrice`) AS `sum(``UnitPrice``)`#100332, pivotfirst(Country#17, sum(CAST(`CustomerID` AS BIGINT))#100176L, Australia, Austria, Bahrain, Belgium, Brazil, Canada, Channel Islands, Cyprus, Czech Republic, Denmark, EIRE, European Community, Finland, France, Germany, Greece, Hong Kong, Iceland, Israel, Italy, Japan, Lebanon, Lithuania, Malta, Netherlands, Norway, Poland, Portugal, RSA, Saudi Arabia, Singapore, Spain, Sweden, Switzerland, USA, United Arab Emirates, United Kingdom, Unspecified, 0, 0) AS __pivot_sum(CAST(`CustomerID` AS BIGINT)) AS `sum(CAST(``CustomerID`` AS BIGINT))`#100410]\\n         +- Aggregate [date#1978, Country#17], [date#1978, Country#17, sum(cast(Quantity#13 as bigint)) AS sum(CAST(`Quantity` AS BIGINT))#100174L, sum(UnitPrice#15) AS sum(`UnitPrice`)#100175, sum(cast(CustomerID#16 as bigint)) AS sum(CAST(`CustomerID` AS BIGINT))#100176L]\\n            +- Project [InvoiceNo#10, StockCode#11, Description#12, Quantity#13, InvoiceDate#14, UnitPrice#15, CustomerID#16, Country#17, to_date('InvoiceDate, Some(MM/d/yyyy H:mm)) AS date#1978]\\n               +- Repartition 5, false\\n                  +- Relation[InvoiceNo#10,StockCode#11,Description#12,Quantity#13,InvoiceDate#14,UnitPrice#15,CustomerID#16,Country#17] csv\\n\""
     ]
    }
   ],
   "source": [
    "pivoted.where(\"date > '2011-12-05'\").select(\"date\", \"`USA_sum(Qunatity)`\").show()"
   ]
  },
  {
   "cell_type": "code",
   "execution_count": null,
   "metadata": {},
   "outputs": [],
   "source": []
  },
  {
   "cell_type": "code",
   "execution_count": null,
   "metadata": {},
   "outputs": [],
   "source": []
  },
  {
   "cell_type": "code",
   "execution_count": null,
   "metadata": {},
   "outputs": [],
   "source": []
  },
  {
   "cell_type": "code",
   "execution_count": null,
   "metadata": {},
   "outputs": [],
   "source": []
  },
  {
   "cell_type": "code",
   "execution_count": null,
   "metadata": {},
   "outputs": [],
   "source": []
  },
  {
   "cell_type": "code",
   "execution_count": null,
   "metadata": {},
   "outputs": [],
   "source": []
  },
  {
   "cell_type": "code",
   "execution_count": null,
   "metadata": {},
   "outputs": [],
   "source": []
  }
 ],
 "metadata": {
  "kernelspec": {
   "display_name": "Python 3",
   "language": "python",
   "name": "python3"
  },
  "language_info": {
   "codemirror_mode": {
    "name": "ipython",
    "version": 3
   },
   "file_extension": ".py",
   "mimetype": "text/x-python",
   "name": "python",
   "nbconvert_exporter": "python",
   "pygments_lexer": "ipython3",
   "version": "3.6.9"
  }
 },
 "nbformat": 4,
 "nbformat_minor": 4
}
