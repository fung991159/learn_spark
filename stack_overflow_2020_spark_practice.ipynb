{
 "cells": [
  {
   "cell_type": "code",
   "execution_count": 1,
   "metadata": {},
   "outputs": [],
   "source": [
    "# basic spark set up \n",
    "from pyspark.sql import SparkSession\n",
    "spark = SparkSession.builder.getOrCreate()"
   ]
  },
  {
   "cell_type": "code",
   "execution_count": 2,
   "metadata": {},
   "outputs": [
    {
     "data": {
      "text/plain": [
       "'3.0.0'"
      ]
     },
     "execution_count": 2,
     "metadata": {},
     "output_type": "execute_result"
    }
   ],
   "source": [
    "spark.version"
   ]
  },
  {
   "cell_type": "code",
   "execution_count": 3,
   "metadata": {},
   "outputs": [],
   "source": [
    "df = spark.read.csv('/home/fung/Downloads/developer_survey_2020/survey_results_public.csv'\n",
    "                    , header=True\n",
    "                   , inferSchema=True)"
   ]
  },
  {
   "cell_type": "code",
   "execution_count": 4,
   "metadata": {},
   "outputs": [
    {
     "name": "stdout",
     "output_type": "stream",
     "text": [
      "(64461, 61)\n"
     ]
    }
   ],
   "source": [
    "# get to know the row and columns, strangely there is no df.shape as in pandas\n",
    "print((df.count(), len(df.columns)))"
   ]
  },
  {
   "cell_type": "markdown",
   "metadata": {},
   "source": [
    "## Data Exploration"
   ]
  },
  {
   "cell_type": "code",
   "execution_count": 5,
   "metadata": {},
   "outputs": [],
   "source": [
    "import pyspark.sql.functions as f\n",
    "from pyspark.sql.functions import desc\n",
    "from pyspark.sql.window import Window\n",
    "from pyspark.sql.types import *\n",
    "import pyspark.sql"
   ]
  },
  {
   "cell_type": "markdown",
   "metadata": {},
   "source": [
    "### 1. Not surprisingly most people start before 20. But quite a few started even before in University"
   ]
  },
  {
   "cell_type": "code",
   "execution_count": 6,
   "metadata": {},
   "outputs": [],
   "source": [
    "d = {\n",
    "    'ConvertedComp': IntegerType(),\n",
    "    'Age1stCode': IntegerType(),\n",
    "    'YearsCodePro': IntegerType(),\n",
    "    'WorkWeekHrs': IntegerType()\n",
    "}\n",
    "\n",
    "for k, v in d.items():   \n",
    "    df = df.withColumn(k, df[k].cast(v))"
   ]
  },
  {
   "cell_type": "markdown",
   "metadata": {},
   "source": [
    "#### when a developer start really young(below 15), it is almost certain his or her comensation will be above average. surprisingly people pick up coding after typical university years will have better pay than those took CS in uni?"
   ]
  },
  {
   "cell_type": "code",
   "execution_count": 7,
   "metadata": {},
   "outputs": [
    {
     "name": "stdout",
     "output_type": "stream",
     "text": [
      "+---------+--------------------+----------------+------------------+-----------------+\n",
      "|age_range|             DevType|count(age_range)|avg(ConvertedComp)|avg(YearsCodePro)|\n",
      "+---------+--------------------+----------------+------------------+-----------------+\n",
      "|    15-20|Academic research...|               1|         1920000.0|              3.0|\n",
      "|    25-30|Developer, back-e...|               2|         1860000.0|              6.0|\n",
      "|    10-15|Developer, back-e...|               1|         1860000.0|             24.0|\n",
      "|      <10|Data scientist or...|               1|         1800000.0|              9.0|\n",
      "|      <10|Data or business ...|               1|         1800000.0|             19.0|\n",
      "|    10-15|Database administ...|               2|         1800000.0|             18.5|\n",
      "|    10-15|Developer, back-e...|               2|         1680000.0|              9.0|\n",
      "|    10-15|Developer, deskto...|               1|         1620000.0|             10.0|\n",
      "|    15-20|Database administ...|               1|         1620000.0|              1.0|\n",
      "|    20-25|Data or business ...|               1|         1600000.0|             10.0|\n",
      "|      <10|Database administ...|               1|         1560000.0|             26.0|\n",
      "|    15-20|Developer, deskto...|               1|         1560000.0|             14.0|\n",
      "|      <10|Developer, back-e...|               1|         1560000.0|             22.0|\n",
      "|    10-15|Developer, back-e...|               1|         1500000.0|             20.0|\n",
      "|    10-15|Academic research...|               2|         1500000.0|              8.5|\n",
      "|      <10|Database administ...|               1|         1500000.0|             16.0|\n",
      "|      <10|Data or business ...|               1|         1440000.0|             20.0|\n",
      "|    25-30|Data or business ...|               1|         1440000.0|              3.0|\n",
      "|    10-15|Designer;Develope...|               1|         1404000.0|             13.0|\n",
      "|      <10|Developer, deskto...|               1|         1380000.0|              7.0|\n",
      "+---------+--------------------+----------------+------------------+-----------------+\n",
      "only showing top 20 rows\n",
      "\n"
     ]
    }
   ],
   "source": [
    "# group age 1st code into age range\n",
    "from pyspark.sql.functions import udf\n",
    "\n",
    "age_range = udf(lambda age: 'Nan' if age is None else\n",
    "                    '<10' if age < 10 else \n",
    "                   '10-15' if (age >= 10 and age < 15) else\n",
    "                   '15-20' if (age >= 15 and age < 20) else\n",
    "                   '20-25' if (age >= 20 and age < 25) else\n",
    "                   '25-30' if (age >= 25 and age < 30) else\n",
    "                   '30-35' if (age >= 30 and age < 35) else\n",
    "                   '35+' if (age > 35)\n",
    "                    else 'Nan')\n",
    "\n",
    "years_coded_range = udf(lambda year_coded: 'Nan' if year_coded is None else\n",
    "                    '<2' if year_coded < 2 else \n",
    "                   '2-4' if (year_coded >= 2 and year_coded < 4) else\n",
    "                   '4-6' if (year_coded >= 4 and year_coded < 6) else\n",
    "                   '6-8' if (year_coded >= 6 and year_coded < 8) else\n",
    "                   '8-10' if (year_coded >= 8 and year_coded < 10) else\n",
    "                   '10+' if (year_coded > 10)\n",
    "                    else 'Nan')\n",
    "\n",
    "df2 = df.withColumn('age_range', age_range(df.Age1stCode))\n",
    "df2 = df2.withColumn('year_coded_range', years_coded_range(df2.YearsCodePro))\n",
    "# df2.groupBy('age_range').count().sort(desc('count')).show()\n",
    "df2 = df2 \\\n",
    "    .groupBy('age_range', 'DevType')\\\n",
    "    .agg(\n",
    "        {'age_range':'count', \n",
    "         'ConvertedComp': 'avg',\n",
    "         'YearsCodePro': 'avg',\n",
    "        })\\\n",
    "    .sort(desc('avg(ConvertedComp)'))\\\n",
    "    .show()\n"
   ]
  },
  {
   "cell_type": "markdown",
   "metadata": {},
   "source": [
    "### 2. Top 10 desire tech next year, pretty general stuff. \n",
    "    Oracle seems really obsoleted now\n",
    "    Python is the top of the list, no doubt, hurray :)\n",
    "    Rust is worth a look , also golang. TypeScript is very unncommon in HK but guess the trend is gravtating there\n",
    "    Node.js got a lot of mentions, though only thing relvant to me is TensorFlow\n",
    "    Webframework is obviously the realm of JS. In python it is still dominated by Django and Flask, personally more partial to flask."
   ]
  },
  {
   "cell_type": "code",
   "execution_count": 8,
   "metadata": {},
   "outputs": [
    {
     "name": "stdout",
     "output_type": "stream",
     "text": [
      "+----------------------+-----+\n",
      "|DatabaseDesireNextYear|count|\n",
      "+----------------------+-----+\n",
      "|PostgreSQL            |2310 |\n",
      "|Microsoft SQL Server  |1947 |\n",
      "|MySQL                 |1823 |\n",
      "|MongoDB               |1624 |\n",
      "|SQLite                |966  |\n",
      "|Firebase              |901  |\n",
      "|PostgreSQL;Redis      |787  |\n",
      "|PostgreSQL;SQLite     |689  |\n",
      "|MongoDB;MySQL         |667  |\n",
      "|MongoDB;PostgreSQL    |576  |\n",
      "+----------------------+-----+\n",
      "only showing top 10 rows\n",
      "\n",
      "+-------------------------------------+-----+\n",
      "|LanguageDesireNextYear               |count|\n",
      "+-------------------------------------+-----+\n",
      "|Python                               |1152 |\n",
      "|Rust                                 |528  |\n",
      "|HTML/CSS;JavaScript;TypeScript       |499  |\n",
      "|C#                                   |461  |\n",
      "|Go                                   |412  |\n",
      "|HTML/CSS;JavaScript                  |410  |\n",
      "|C#;HTML/CSS;JavaScript;SQL;TypeScript|401  |\n",
      "|Java                                 |340  |\n",
      "|JavaScript                           |313  |\n",
      "|HTML/CSS;JavaScript;PHP;SQL          |304  |\n",
      "+-------------------------------------+-----+\n",
      "only showing top 10 rows\n",
      "\n",
      "+----------------------+-----+\n",
      "|MiscTechDesireNextYear|count|\n",
      "+----------------------+-----+\n",
      "|Node.js               |4134 |\n",
      "|Node.js;React Native  |1615 |\n",
      "|.NET;.NET Core        |1484 |\n",
      "|.NET Core             |1218 |\n",
      "|Flutter               |1009 |\n",
      "|React Native          |760  |\n",
      "|TensorFlow            |697  |\n",
      "|.NET;.NET Core;Node.js|628  |\n",
      "|.NET Core;Node.js     |622  |\n",
      "|.NET                  |603  |\n",
      "+----------------------+-----+\n",
      "only showing top 10 rows\n",
      "\n",
      "+-----------------------------------------------------------+-----+\n",
      "|NEWCollabToolsDesireNextYear                               |count|\n",
      "+-----------------------------------------------------------+-----+\n",
      "|Github                                                     |4732 |\n",
      "|Github;Gitlab                                              |2026 |\n",
      "|Github;Slack                                               |1762 |\n",
      "|Github;Slack;Google Suite (Docs, Meet, etc)                |1376 |\n",
      "|Github;Google Suite (Docs, Meet, etc)                      |1151 |\n",
      "|Gitlab                                                     |1104 |\n",
      "|Github;Gitlab;Slack                                        |934  |\n",
      "|Confluence;Jira;Github;Slack                               |674  |\n",
      "|Github;Slack;Trello;Google Suite (Docs, Meet, etc)         |652  |\n",
      "|Confluence;Jira;Github;Slack;Google Suite (Docs, Meet, etc)|613  |\n",
      "+-----------------------------------------------------------+-----+\n",
      "only showing top 10 rows\n",
      "\n",
      "+---------------------------+-----+\n",
      "|PlatformDesireNextYear     |count|\n",
      "+---------------------------+-----+\n",
      "|Linux                      |2011 |\n",
      "|Windows                    |1747 |\n",
      "|Linux;Windows              |1126 |\n",
      "|Android                    |823  |\n",
      "|Docker;Linux               |784  |\n",
      "|AWS                        |544  |\n",
      "|Docker;Kubernetes;Linux    |514  |\n",
      "|Android;iOS                |512  |\n",
      "|Microsoft Azure;Windows    |495  |\n",
      "|AWS;Docker;Kubernetes;Linux|492  |\n",
      "+---------------------------+-----+\n",
      "only showing top 10 rows\n",
      "\n",
      "+----------------------+-----+\n",
      "|WebframeDesireNextYear|count|\n",
      "+----------------------+-----+\n",
      "|React.js              |2480 |\n",
      "|ASP.NET Core          |1106 |\n",
      "|Vue.js                |1079 |\n",
      "|Spring                |1011 |\n",
      "|Express;React.js      |899  |\n",
      "|Django                |872  |\n",
      "|Flask                 |803  |\n",
      "|React.js;Vue.js       |762  |\n",
      "|Angular               |716  |\n",
      "|jQuery                |687  |\n",
      "+----------------------+-----+\n",
      "only showing top 10 rows\n",
      "\n"
     ]
    }
   ],
   "source": [
    "desire_cols = [c for c in df.schema.names if 'Desire' in c]\n",
    "\n",
    "for c in desire_cols:\n",
    "    df_desire = df.filter(df[c] != 'NA')\n",
    "    df_desire.groupby(c).count().sort(desc('count')).show(10, truncate=False)"
   ]
  },
  {
   "cell_type": "markdown",
   "metadata": {},
   "source": [
    "### 3. Comnpensation by Country: there must be some input error or super outliner in Lao. Anyway, countray to popular thought, Norway has such high average working hours\n"
   ]
  },
  {
   "cell_type": "code",
   "execution_count": 9,
   "metadata": {},
   "outputs": [
    {
     "name": "stdout",
     "output_type": "stream",
     "text": [
      "+--------------------------------+---------+--------------+-----------+\n",
      "|Country                         |avg_comp |avg_working_hr|hourly_wage|\n",
      "+--------------------------------+---------+--------------+-----------+\n",
      "|Lao People's Democratic Republic|231275.25|43.0          |107.57     |\n",
      "|Nomadic                         |180995.23|41.7          |86.81      |\n",
      "|United States                   |147844.08|41.79         |70.75      |\n",
      "|Ireland                         |143952.98|39.56         |72.77      |\n",
      "|Norway                          |127266.29|55.4          |45.94      |\n",
      "|United Kingdom                  |119301.67|39.12         |60.99      |\n",
      "|New Zealand                     |110159.19|40.5          |54.4       |\n",
      "|Switzerland                     |109950.28|39.58         |55.55      |\n",
      "|Australia                       |105617.38|39.81         |53.06      |\n",
      "|Republic of Korea               |103590.62|35.14         |58.96      |\n",
      "|Israel                          |103550.44|44.74         |46.29      |\n",
      "|Hong Kong (S.A.R.)              |96755.22 |42.3          |45.75      |\n",
      "|Japan                           |91182.72 |40.63         |44.88      |\n",
      "|Denmark                         |90334.31 |38.12         |47.39      |\n",
      "|Andorra                         |88640.0  |42.0          |42.21      |\n",
      "|Bahamas                         |86706.0  |40.0          |43.35      |\n",
      "|Germany                         |86181.91 |40.27         |42.8       |\n",
      "|South Korea                     |85938.93 |38.48         |44.66      |\n",
      "|Canada                          |81504.93 |40.62         |40.14      |\n",
      "|Iceland                         |78961.18 |39.44         |40.04      |\n",
      "+--------------------------------+---------+--------------+-----------+\n",
      "only showing top 20 rows\n",
      "\n",
      "+--------------------+---------+--------------+-----------+\n",
      "|             Country| avg_comp|avg_working_hr|hourly_wage|\n",
      "+--------------------+---------+--------------+-----------+\n",
      "|Lao People's Demo...|231275.25|          43.0|     107.57|\n",
      "|             Nomadic|180995.23|          41.7|      86.81|\n",
      "|             Ireland|143952.98|         39.56|      72.77|\n",
      "|       United States|147844.08|         41.79|      70.75|\n",
      "|      United Kingdom|119301.67|         39.12|      60.99|\n",
      "|   Republic of Korea|103590.62|         35.14|      58.96|\n",
      "|         Switzerland|109950.28|         39.58|      55.55|\n",
      "|         New Zealand|110159.19|          40.5|       54.4|\n",
      "|           Australia|105617.38|         39.81|      53.06|\n",
      "|             Denmark| 90334.31|         38.12|      47.39|\n",
      "|              Israel|103550.44|         44.74|      46.29|\n",
      "|              Norway|127266.29|          55.4|      45.94|\n",
      "|  Hong Kong (S.A.R.)| 96755.22|          42.3|      45.75|\n",
      "|               Japan| 91182.72|         40.63|      44.88|\n",
      "|         South Korea| 85938.93|         38.48|      44.66|\n",
      "|             Bahamas|  86706.0|          40.0|      43.35|\n",
      "|             Germany| 86181.91|         40.27|       42.8|\n",
      "|             Andorra|  88640.0|          42.0|      42.21|\n",
      "|              Canada| 81504.93|         40.62|      40.14|\n",
      "|             Iceland| 78961.18|         39.44|      40.04|\n",
      "+--------------------+---------+--------------+-----------+\n",
      "only showing top 20 rows\n",
      "\n"
     ]
    }
   ],
   "source": [
    "# orderd by avg comp desc\n",
    "from pyspark.sql.functions import *\n",
    "df3 = df\\\n",
    "    .groupBy('Country')\\\n",
    "    .agg(\n",
    "        avg('ConvertedComp').alias('avg_comp'), \n",
    "        avg('WorkWeekHrs').alias('avg_working_hr')\n",
    "    )\\\n",
    "    .orderBy('avg_comp', ascending=False)\n",
    "df3 = df3.withColumn('hourly_wage', df3.avg_comp / df3.avg_working_hr/50)\n",
    "df3 = df3.withColumn('hourly_wage', round(col('hourly_wage'), 2))\\\n",
    "        .withColumn('avg_comp', round(col('avg_comp'), 2))\\\n",
    "        .withColumn('avg_working_hr', round(col('avg_working_hr'), 2))\n",
    "df3.show(truncate = False) \n",
    "\n",
    "#order by avg_working_hr asc\n",
    "df3.na.drop().orderBy('hourly_wage', ascending=False).show()"
   ]
  },
  {
   "cell_type": "markdown",
   "metadata": {},
   "source": [
    "### 4. so is there any pattern of developer type and education level? Master degree is the most common educate level for Academic researcher and Data scientist, while the rest are Bachelor. Guess that fit everyone expectation."
   ]
  },
  {
   "cell_type": "code",
   "execution_count": 10,
   "metadata": {},
   "outputs": [],
   "source": [
    "from pyspark.sql import functions as F\n",
    "from pyspark.sql.functions import row_number\n",
    "from pyspark.sql.window import Window"
   ]
  },
  {
   "cell_type": "code",
   "execution_count": 11,
   "metadata": {},
   "outputs": [
    {
     "name": "stdout",
     "output_type": "stream",
     "text": [
      "+--------------------+--------------------+-----+\n",
      "|    DevType_splitted|             edLevel|count|\n",
      "+--------------------+--------------------+-----+\n",
      "| Academic researcher|Master’s degree (...| 1171|\n",
      "|Data or business ...|Bachelor’s degree...| 1773|\n",
      "|Data scientist or...|Master’s degree (...| 1529|\n",
      "|Database administ...|Bachelor’s degree...| 2474|\n",
      "|            Designer|Bachelor’s degree...| 2406|\n",
      "|   DevOps specialist|Bachelor’s degree...| 2702|\n",
      "|Developer, QA or ...|Bachelor’s degree...| 1862|\n",
      "| Developer, back-end|Bachelor’s degree...|13218|\n",
      "|Developer, deskto...|Bachelor’s degree...| 5455|\n",
      "|Developer, embedd...|Bachelor’s degree...| 1973|\n",
      "|Developer, front-end|Bachelor’s degree...| 9106|\n",
      "|Developer, full-s...|Bachelor’s degree...|13510|\n",
      "|Developer, game o...|Bachelor’s degree...| 1103|\n",
      "|   Developer, mobile|Bachelor’s degree...| 4627|\n",
      "|            Educator|Bachelor’s degree...| 1085|\n",
      "|      Engineer, data|Bachelor’s degree...| 1594|\n",
      "|Engineer, site re...|Bachelor’s degree...|  898|\n",
      "| Engineering manager|Bachelor’s degree...| 1239|\n",
      "|Marketing or sale...|Bachelor’s degree...|  239|\n",
      "|                  NA|                  NA| 6046|\n",
      "+--------------------+--------------------+-----+\n",
      "only showing top 20 rows\n",
      "\n"
     ]
    }
   ],
   "source": [
    "from pyspark.sql.functions import arrays_zip, col, explode, split\n",
    "df4 = df.withColumn('DevType_splitted', explode(split('DevType', ';')))\n",
    "df4 = df4.groupBy('DevType_splitted','edLevel').count().orderBy('DevType_splitted')\n",
    "w = Window().partitionBy(\"DevType_splitted\").orderBy(col(\"count\").desc())\n",
    "df_devtype_by_edlevel = (df4\n",
    "  .withColumn(\"rn\", row_number().over(w))\n",
    "  .where(col(\"rn\") == 1)\n",
    "  .select(\"DevType_splitted\", \"edLevel\", \"count\"))\n",
    "df_devtype_by_edlevel.show()"
   ]
  },
  {
   "cell_type": "markdown",
   "metadata": {},
   "source": [
    "### 5. How common is DevOps in the industy? Assuminkg people with NA also considered as no DevOps, it isn't as common as I thought."
   ]
  },
  {
   "cell_type": "code",
   "execution_count": 12,
   "metadata": {},
   "outputs": [
    {
     "name": "stdout",
     "output_type": "stream",
     "text": [
      "+---------+-----+\n",
      "|NEWDevOps|count|\n",
      "+---------+-----+\n",
      "|       NA|21775|\n",
      "|      Yes|18712|\n",
      "|       No|18630|\n",
      "| Not sure| 5344|\n",
      "+---------+-----+\n",
      "\n"
     ]
    }
   ],
   "source": [
    "df_devops = df.groupBy('NEWDevOps')\\\n",
    "            .count().orderBy('count', ascending=False)\\\n",
    "            .show()"
   ]
  }
 ],
 "metadata": {
  "kernelspec": {
   "display_name": "Python 3.8.3 64-bit ('spark': venv)",
   "language": "python",
   "name": "python38364bitsparkvenvf6793e184af84d8dbf684f9d43681053"
  },
  "language_info": {
   "codemirror_mode": {
    "name": "ipython",
    "version": 3
   },
   "file_extension": ".py",
   "mimetype": "text/x-python",
   "name": "python",
   "nbconvert_exporter": "python",
   "pygments_lexer": "ipython3",
   "version": "3.8.3"
  }
 },
 "nbformat": 4,
 "nbformat_minor": 4
}
